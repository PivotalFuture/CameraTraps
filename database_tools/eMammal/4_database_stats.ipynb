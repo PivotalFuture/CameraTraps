{
 "cells": [
  {
   "cell_type": "code",
   "execution_count": 1,
   "metadata": {
    "collapsed": true
   },
   "outputs": [],
   "source": [
    "import json\n",
    "\n",
    "%load_ext autoreload\n",
    "%autoreload 2"
   ]
  },
  {
   "cell_type": "markdown",
   "metadata": {},
   "source": [
    "# Read a database and count number of projects, locations, images, annotations and species"
   ]
  },
  {
   "cell_type": "code",
   "execution_count": 2,
   "metadata": {
    "collapsed": true
   },
   "outputs": [],
   "source": [
    "db_path = '/Users/siyuyang/OneDrive - Microsoft/AI4Earth/Camera_trap/databases/eMammal_20180929.json'"
   ]
  },
  {
   "cell_type": "code",
   "execution_count": 3,
   "metadata": {
    "collapsed": true
   },
   "outputs": [],
   "source": [
    "db = json.load(open(db_path))"
   ]
  },
  {
   "cell_type": "code",
   "execution_count": 4,
   "metadata": {
    "collapsed": false
   },
   "outputs": [
    {
     "data": {
      "text/plain": [
       "1758910"
      ]
     },
     "execution_count": 4,
     "metadata": {},
     "output_type": "execute_result"
    }
   ],
   "source": [
    "num_images = len(db['images'])\n",
    "num_images"
   ]
  },
  {
   "cell_type": "code",
   "execution_count": 5,
   "metadata": {
    "collapsed": false
   },
   "outputs": [
    {
     "data": {
      "text/plain": [
       "[{'bbox': [0.6716216378845276,\n",
       "   0.4442567675141618,\n",
       "   0.32837836211547244,\n",
       "   0.2500000060535968],\n",
       "  'category_id': 1,\n",
       "  'id': '9HgP51535638006333',\n",
       "  'image_id': 'datasetemammal.projectp135.deploymentd20629.seqd20629s13.imgd20629s13i1'},\n",
       " {'bbox': [0.47457075119018555,\n",
       "   0.4748467803001404,\n",
       "   0.5094805717468261,\n",
       "   0.3772698640823364],\n",
       "  'category_id': 1,\n",
       "  'id': 'HL5hk1535638020630',\n",
       "  'image_id': 'datasetemammal.projectp135.deploymentd20629.seqd20629s13.imgd20629s13i2'}]"
      ]
     },
     "execution_count": 5,
     "metadata": {},
     "output_type": "execute_result"
    }
   ],
   "source": [
    "db['annotations'][:2]"
   ]
  },
  {
   "cell_type": "code",
   "execution_count": 7,
   "metadata": {
    "collapsed": false
   },
   "outputs": [
    {
     "data": {
      "text/plain": [
       "26384"
      ]
     },
     "execution_count": 7,
     "metadata": {},
     "output_type": "execute_result"
    }
   ],
   "source": [
    "images = []\n",
    "for anno in db['annotations']:\n",
    "    images.append(anno['image_id'])\n",
    "images = set(images)\n",
    "num_images_w_bbox = len(images)\n",
    "num_images_w_bbox"
   ]
  },
  {
   "cell_type": "code",
   "execution_count": 14,
   "metadata": {
    "collapsed": false
   },
   "outputs": [
    {
     "data": {
      "text/plain": [
       "{'datetime': '2011-03-26 18:00:39',\n",
       " 'file_name': 'p135d20629/d20629s9i9.JPG',\n",
       " 'frame_num': 9,\n",
       " 'height': 1024,\n",
       " 'id': 'datasetemammal.projectp135.deploymentd20629.seqd20629s9.imgd20629s9i9',\n",
       " 'label': 'sambar',\n",
       " 'location': 'HKK101',\n",
       " 'seq_id': 'd20629s9',\n",
       " 'seq_num_frames': 18,\n",
       " 'width': 1280}"
      ]
     },
     "execution_count": 14,
     "metadata": {},
     "output_type": "execute_result"
    }
   ],
   "source": [
    "db['images'][-1]"
   ]
  },
  {
   "cell_type": "code",
   "execution_count": 9,
   "metadata": {
    "collapsed": false
   },
   "outputs": [
    {
     "data": {
      "text/plain": [
       "3264"
      ]
     },
     "execution_count": 9,
     "metadata": {},
     "output_type": "execute_result"
    }
   ],
   "source": [
    "camera_locations = []\n",
    "\n",
    "for im in db['images']:\n",
    "    camera_locations.append(im['location'])\n",
    "camera_locations = set(camera_locations)\n",
    "num_camera_locations = len(camera_locations)\n",
    "num_camera_locations"
   ]
  },
  {
   "cell_type": "code",
   "execution_count": 12,
   "metadata": {
    "collapsed": false
   },
   "outputs": [
    {
     "data": {
      "text/plain": [
       "17"
      ]
     },
     "execution_count": 12,
     "metadata": {},
     "output_type": "execute_result"
    }
   ],
   "source": [
    "projects = []\n",
    "for im_id in images:\n",
    "    parts = im_id.split('.')\n",
    "    projects.append(parts[1])\n",
    "projects = set(projects)\n",
    "num_projects = len(projects) # substitutes for number of regions\n",
    "num_projects"
   ]
  },
  {
   "cell_type": "code",
   "execution_count": 13,
   "metadata": {
    "collapsed": false
   },
   "outputs": [
    {
     "data": {
      "text/plain": [
       "{'project3062',\n",
       " 'project3191',\n",
       " 'project4180',\n",
       " 'projectp100',\n",
       " 'projectp101',\n",
       " 'projectp104',\n",
       " 'projectp117',\n",
       " 'projectp122',\n",
       " 'projectp125',\n",
       " 'projectp126',\n",
       " 'projectp135',\n",
       " 'projectp139',\n",
       " 'projectp158',\n",
       " 'projectp166',\n",
       " 'projectp168',\n",
       " 'projectp193',\n",
       " 'projectp195'}"
      ]
     },
     "execution_count": 13,
     "metadata": {},
     "output_type": "execute_result"
    }
   ],
   "source": [
    "projects"
   ]
  },
  {
   "cell_type": "markdown",
   "metadata": {},
   "source": [
    "## Species"
   ]
  },
  {
   "cell_type": "code",
   "execution_count": 16,
   "metadata": {
    "collapsed": false
   },
   "outputs": [
    {
     "data": {
      "text/plain": [
       "193"
      ]
     },
     "execution_count": 16,
     "metadata": {},
     "output_type": "execute_result"
    }
   ],
   "source": [
    "species = []\n",
    "for im in db['images']:\n",
    "    species.extend(im['label'].split(';'))\n",
    "species = set(species)\n",
    "num_species = len(species)\n",
    "num_species"
   ]
  },
  {
   "cell_type": "code",
   "execution_count": 18,
   "metadata": {
    "collapsed": false
   },
   "outputs": [
    {
     "data": {
      "text/plain": [
       "{'american badger',\n",
       " 'american beaver',\n",
       " 'american black bear',\n",
       " 'american crow',\n",
       " 'american hog-nosed skunk',\n",
       " 'american marten',\n",
       " 'american red squirrel',\n",
       " 'american robin',\n",
       " 'animal not on list',\n",
       " 'appalachian cottontail',\n",
       " 'asian elephant',\n",
       " 'asian small-clawed otter',\n",
       " 'asiatic black bear',\n",
       " 'asiatic brush-tailed porcupine',\n",
       " 'asiatic golden cat',\n",
       " 'banteng',\n",
       " 'black vulture',\n",
       " 'black-eared opossum',\n",
       " 'blood pheasant',\n",
       " 'blue eared pheasant',\n",
       " 'blue eared-pheasant',\n",
       " 'blue jay',\n",
       " 'blue magpie',\n",
       " 'bobcat',\n",
       " 'brown palm civet',\n",
       " 'canada lynx',\n",
       " 'cattle egret',\n",
       " 'central american agouti',\n",
       " 'chestnut-throated partridge',\n",
       " 'chinese bamboo rat',\n",
       " 'chinese goral',\n",
       " 'chinese grouse',\n",
       " 'chinese serow',\n",
       " 'chital',\n",
       " 'collared peccary',\n",
       " \"collie's squirrel\",\n",
       " 'common palm civet',\n",
       " 'common raven',\n",
       " 'coral-billed ground cuckoo',\n",
       " 'coyote',\n",
       " 'crab-eating fox',\n",
       " 'crab-eating macaque',\n",
       " 'crab-eating mongoose',\n",
       " 'crab-eating raccoon',\n",
       " 'dhole',\n",
       " 'domestic cat',\n",
       " 'domestic cattle',\n",
       " 'domestic chicken',\n",
       " 'domestic cow',\n",
       " 'domestic dog',\n",
       " 'domestic goat',\n",
       " 'domestic horse',\n",
       " 'domestic pig',\n",
       " \"douglas's squirrel\",\n",
       " 'eastern chipmunk',\n",
       " 'eastern cottontail',\n",
       " 'eastern fox squirrel',\n",
       " 'eastern gray squirrel',\n",
       " 'eastern spotted skunk',\n",
       " 'eastern woodrat',\n",
       " 'elk aka red deer',\n",
       " 'elk_red deer',\n",
       " 'empty',\n",
       " \"finlayson's squirrel\",\n",
       " 'forest musk deer',\n",
       " 'gaur',\n",
       " 'giant panda',\n",
       " 'golden jackal',\n",
       " 'golden pheasant',\n",
       " 'golden snub-nosed monkey',\n",
       " 'gray-headed flying squirrel',\n",
       " 'green peafowl',\n",
       " 'grey fox',\n",
       " 'grey jay',\n",
       " 'grey junglefowl',\n",
       " 'himalayan black bear',\n",
       " 'hog badger',\n",
       " 'hooded skunk',\n",
       " 'human',\n",
       " 'indian chevrotain',\n",
       " 'indian crested porcupine',\n",
       " 'indian grey mongoose',\n",
       " 'indian hare',\n",
       " 'indian water buffalo',\n",
       " 'indochinese ground squirrel',\n",
       " 'jaguar',\n",
       " 'jaguarundi',\n",
       " 'large indian civet',\n",
       " 'large-spotted civet',\n",
       " 'large-toothed ferret badger',\n",
       " 'leopard',\n",
       " 'leopard cat',\n",
       " 'lesser oriental chevrotain',\n",
       " 'long-tailed porcupine',\n",
       " 'long-tailed weasel',\n",
       " 'malayan porcupine',\n",
       " 'malayan tapir',\n",
       " 'mantled howler monkey',\n",
       " 'marsh rabbit',\n",
       " 'masked palm civet',\n",
       " \"milne-edwards' macaque\",\n",
       " 'moose',\n",
       " 'mule deer',\n",
       " 'nilgai',\n",
       " 'nine-banded armadillo',\n",
       " 'north american otter',\n",
       " 'northern bobwhite',\n",
       " 'northern naked-tailed armadillo',\n",
       " 'northern pig-tailed macaque',\n",
       " 'northern plains gray langur',\n",
       " 'northern raccoon',\n",
       " 'northern red muntjac',\n",
       " 'northern tamandua',\n",
       " 'northern treeshrew',\n",
       " 'other bird species',\n",
       " 'owl species',\n",
       " 'puma',\n",
       " \"pére david's rock squirrel\",\n",
       " 'raptor species',\n",
       " 'rattus species',\n",
       " 'red fox',\n",
       " 'red junglefowl',\n",
       " 'red wolf',\n",
       " \"reeve's muntjac\",\n",
       " \"reeves' muntjac\",\n",
       " 'reptile species',\n",
       " 'ring-tailed ground squirrel',\n",
       " 'ringtail',\n",
       " 'ruddy mongoose',\n",
       " 'ruffed grouse',\n",
       " 'sambar',\n",
       " 'siamese fireback',\n",
       " 'siberian chipmunk',\n",
       " 'siberian weasel',\n",
       " 'small indian civet',\n",
       " 'snowshoe hare',\n",
       " 'southern flying squirrel',\n",
       " 'southern plains gray langur',\n",
       " 'southern red muntjac',\n",
       " 'southern spotted skunk',\n",
       " 'southwest china serow',\n",
       " 'spotted paca',\n",
       " \"steller's jay\",\n",
       " 'striped skunk',\n",
       " 'stump-tailed macaque',\n",
       " 'sumatran serow',\n",
       " 'sun bear',\n",
       " 'sunda pangolin',\n",
       " 'swamp rabbit',\n",
       " \"swinhoe's striped squirrel\",\n",
       " 'takin',\n",
       " 'tapeti',\n",
       " 'tayra',\n",
       " \"temminck's tragopan\",\n",
       " 'tiger',\n",
       " \"tome's spiny rat\",\n",
       " 'tragopan pheasant',\n",
       " 'tragopan temminckii',\n",
       " 'tufted deer',\n",
       " 'turkey vulture',\n",
       " 'unknown animal',\n",
       " 'unknown armadillo',\n",
       " 'unknown bear',\n",
       " 'unknown bird',\n",
       " 'unknown bovid',\n",
       " 'unknown canid',\n",
       " 'unknown cervid',\n",
       " 'unknown chipmunk',\n",
       " 'unknown civet_genet_linsang',\n",
       " 'unknown coati_raccoon',\n",
       " 'unknown felid',\n",
       " 'unknown flying squirrel',\n",
       " 'unknown ground squirrel',\n",
       " 'unknown mouse or rat',\n",
       " 'unknown opossum',\n",
       " 'unknown pika',\n",
       " 'unknown porcupine',\n",
       " 'unknown primate',\n",
       " 'unknown rabbit_hare',\n",
       " 'unknown skunk_badger',\n",
       " 'unknown small rodent',\n",
       " 'unknown small weasel',\n",
       " 'unknown squirrel',\n",
       " 'virginia opossum',\n",
       " 'western spotted skunk',\n",
       " 'white-nosed coati',\n",
       " 'white-tailed deer',\n",
       " 'white-throated capuchin',\n",
       " 'wild boar',\n",
       " 'wild turkey',\n",
       " 'wolverine',\n",
       " 'woodchuck',\n",
       " 'yellow-throated marten'}"
      ]
     },
     "execution_count": 18,
     "metadata": {},
     "output_type": "execute_result"
    }
   ],
   "source": [
    "species"
   ]
  },
  {
   "cell_type": "code",
   "execution_count": 21,
   "metadata": {
    "collapsed": false
   },
   "outputs": [
    {
     "data": {
      "text/plain": [
       "True"
      ]
     },
     "execution_count": 21,
     "metadata": {},
     "output_type": "execute_result"
    }
   ],
   "source": [
    "'human' in species"
   ]
  },
  {
   "cell_type": "code",
   "execution_count": null,
   "metadata": {
    "collapsed": true
   },
   "outputs": [],
   "source": []
  }
 ],
 "metadata": {
  "kernelspec": {
   "display_name": "Python [tensorflow]",
   "language": "python",
   "name": "Python [tensorflow]"
  },
  "language_info": {
   "codemirror_mode": {
    "name": "ipython",
    "version": 3
   },
   "file_extension": ".py",
   "mimetype": "text/x-python",
   "name": "python",
   "nbconvert_exporter": "python",
   "pygments_lexer": "ipython3",
   "version": "3.5.4"
  }
 },
 "nbformat": 4,
 "nbformat_minor": 0
}
