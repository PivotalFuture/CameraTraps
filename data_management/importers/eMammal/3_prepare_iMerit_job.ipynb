{
 "cells": [
  {
   "cell_type": "code",
   "execution_count": 158,
   "metadata": {},
   "outputs": [],
   "source": [
    "import copy\n",
    "import pandas as pd\n",
    "import csv\n",
    "import json\n",
    "from lxml import etree\n",
    "import os\n",
    "from tqdm import tqdm\n",
    "from collections import defaultdict\n",
    "import statistics\n",
    "import shutil\n",
    "from azure.storage.blob import BlockBlobService\n",
    "from eMammal_helpers import *"
   ]
  },
  {
   "cell_type": "code",
   "execution_count": 2,
   "metadata": {},
   "outputs": [],
   "source": [
    "# print all outputs in a cell\n",
    "from IPython.core.interactiveshell import InteractiveShell\n",
    "InteractiveShell.ast_node_interactivity = \"all\"\n",
    "\n",
    "# auto reload external Python modules\n",
    "%load_ext autoreload\n",
    "%autoreload 2\n",
    "\n",
    "# display Matplotlib figures inline and set default size\n",
    "import matplotlib.pyplot as plt\n",
    "%matplotlib inline\n",
    "plt.rcParams['figure.dpi'] = 120\n",
    "plt.rcParams['figure.figsize'] = (8.0, 3.0)\n",
    "plt.rcParams['image.interpolation'] = 'nearest'\n",
    "plt.rcParams['image.cmap'] = 'gray'\n",
    "plt.rcParams['font.size'] = 9"
   ]
  },
  {
   "cell_type": "code",
   "execution_count": 3,
   "metadata": {},
   "outputs": [],
   "source": [
    "# configurations and paths\n",
    "output_dir_path = '/home/yasiyu/yasiyu_temp'\n",
    "\n",
    "deployments_path = '/datadrive/emammal'\n",
    "\n",
    "projects_of_interest = ['p139', 'p158']  # the Robert Long collection had deployents from these two projects"
   ]
  },
  {
   "cell_type": "markdown",
   "metadata": {},
   "source": [
    "# Prepare an iMerit job\n",
    "\n",
    "This notebooks samples a subset of the Robert Long collection of eMammal data from the Seattle area, and \n",
    "copies them to a folder to hand off for annotations to iMerit.\n",
    "\n",
    "Aim to have a sample of ~20k images:\n",
    "- exclude empty sequences\n",
    "- do not include too many humans\n",
    "- reasonable diversity across species\n",
    "- reasonable diversity across deployments\n",
    "- balance between day/night (time of day is okay for this purpose)\n",
    "- for simplicity, may avoid sequences with multiple _different_ species, since we'll use these labels for classification as well.\n",
    "- could bias towards species that the GIX project needs\n",
    "\n",
    "Image name format:\n",
    "\n",
    "`dataset[datasetname].project[projectID].deployment[deploymentID].seq[sequenceID].frame[frameNumber].img[imageID].jpg\n",
    "`\n",
    "\n",
    "e.g.\n",
    "\n",
    "`datasetemammal.project3062.deploymentd16546.seqd16546s14.frame001.imgd16546s14i1.jpg`"
   ]
  },
  {
   "cell_type": "code",
   "execution_count": 4,
   "metadata": {},
   "outputs": [],
   "source": [
    "# find the deployments in the Robert Long collection\n",
    "\n",
    "deployments = []\n",
    "for deployment in os.listdir(deployments_path):\n",
    "    # we know that for deployments in the Robert Long collection, the folders are prefixed with the \n",
    "    # project ID, but in general this is not true.\n",
    "    of_interest = False\n",
    "    for proj in projects_of_interest:\n",
    "        if deployment.startswith(proj):\n",
    "            of_interest = True\n",
    "    if of_interest:\n",
    "        deployments.append(deployment)"
   ]
  },
  {
   "cell_type": "code",
   "execution_count": 6,
   "metadata": {},
   "outputs": [
    {
     "data": {
      "text/plain": [
       "126"
      ]
     },
     "execution_count": 6,
     "metadata": {},
     "output_type": "execute_result"
    }
   ],
   "source": [
    "len(deployments)  # confirmed by using Storage Explorer that the 0Roboert Long collection has 126 zips indeed."
   ]
  },
  {
   "cell_type": "markdown",
   "metadata": {},
   "source": [
    "Make a dataframe, one row each sequence, columns include\n",
    "\n",
    "`full_seq_id, project_id, deployment_id, species, is_empty, is_human_only, is_multi_species, num_frames, start_time, is_daytime`\n",
    "\n",
    "species is semi-column separated list of unique species, sorted.\n",
    "\n",
    "Make another dataframe for images, one row per image, columns include\n",
    "\n",
    "`full_img_id, full_img_path, full_seq_id, project_id, project_name, deployment_id, site_name, species, img_id`\n",
    "\n",
    "Note that `full_img_id` is generated from information in the xml file only, and you might not be able to construct `full_img_path` from it (hence the need for this mapping) because of errors in naming the folder structures.\n",
    "\n",
    "Checked that all `full_img_path` exist on the data disk. Some images may be corrupted from previous experience.  "
   ]
  },
  {
   "cell_type": "code",
   "execution_count": 131,
   "metadata": {},
   "outputs": [
    {
     "name": "stderr",
     "output_type": "stream",
     "text": [
      "100%|██████████| 126/126 [00:05<00:00, 22.46it/s]\n"
     ]
    }
   ],
   "source": [
    "sequences_list = []\n",
    "images_list = []\n",
    "species_tally = defaultdict(int)\n",
    "\n",
    "# is the species distribution different for sequences with no more than 20 frames\n",
    "species_tally_short_seq = defaultdict(int)\n",
    "max_num_frames = 20\n",
    "\n",
    "for deployment in tqdm(deployments):\n",
    "    deployment_path = os.path.join(deployments_path, deployment)\n",
    "    manifest_path = os.path.join(deployment_path, 'deployment_manifest.xml')\n",
    "    \n",
    "    with open(manifest_path, 'r') as f:\n",
    "        tree = etree.parse(f)\n",
    "    \n",
    "    root = tree.getroot()\n",
    "    project_id = root.findtext('ProjectId')\n",
    "    project_name = root.findtext('ProjectName')\n",
    "    deployment_id = root.findtext('CameraDeploymentID')\n",
    "    site_name = root.findtext('CameraSiteName')\n",
    "    \n",
    "    image_sequences = root.findall('ImageSequence')\n",
    "    for sequence in image_sequences:\n",
    "        images = sequence.findall('Image')\n",
    "        num_frames = len(images)\n",
    "        \n",
    "        # sequences\n",
    "        seq_id = sequence.findtext('ImageSequenceId')\n",
    "        full_seq_id = 'datasetemammal.project{}.deployment{}.seq{}'.format(project_id, deployment_id, seq_id)\n",
    "        \n",
    "        # get species info\n",
    "        researcher_identifications = sequence.findall('ResearcherIdentifications')\n",
    "        species_in_seq = set()\n",
    "        for researcher_id in researcher_identifications:\n",
    "            identifications = researcher_id.findall('Identification')\n",
    "            for id in identifications:\n",
    "                species_common_name = clean_species_name(id.findtext('SpeciesCommonName'))\n",
    "                species_tally[species_common_name] += 1\n",
    "                species_in_seq.add(species_common_name)\n",
    "                \n",
    "                if num_frames <= max_num_frames:\n",
    "                    species_tally_short_seq[species_common_name] += 1\n",
    "                \n",
    "        species_str = ';'.join(sorted(list(species_in_seq)))\n",
    "    \n",
    "        seq_start_time = sequence.findtext('ImageSequenceBeginTime')\n",
    "        start_time = parse_timestamp(seq_start_time)\n",
    "    \n",
    "        sequences_list.append({\n",
    "            'full_seq_id': full_seq_id,\n",
    "            'project_id': project_id,\n",
    "            'deployment_id': deployment_id,\n",
    "            'species': species_str,\n",
    "            'is_empty': True if species_str == 'empty' else False,\n",
    "            'is_human_only': True if species_str == 'human' else False,\n",
    "            'is_multi_species': True if len(species_in_seq) > 1 else False,\n",
    "            'num_frames': num_frames,\n",
    "            'start_time': start_time,\n",
    "            'is_daytime': is_daytime(start_time)\n",
    "        })\n",
    "        \n",
    "        # images\n",
    "        for img in images:\n",
    "            img_id = img.findtext('ImageId')\n",
    "            img_file_name = img.findtext('ImageFileName')\n",
    "            assert img_file_name.endswith('.JPG')\n",
    "            try:\n",
    "                img_frame = clean_frame_number_4_digit(img.findtext('ImageOrder'))\n",
    "            except:\n",
    "                img_frame = img_file_name.split('i')[1].split('.')[0]\n",
    "                img_frame = clean_frame_number_4_digit(img_frame)\n",
    "            \n",
    "            full_img_id = 'datasetemammal.project{}.deployment{}.seq{}.frame{}.img{}'.format(project_id, deployment_id, seq_id, img_frame, img_id)\n",
    "            full_img_path = os.path.join(deployment_path, img_file_name)\n",
    "            \n",
    "            if not os.path.exists(full_img_path):\n",
    "                print('Path does not exist: {}'.format(full_img_path))\n",
    "            \n",
    "            images_list.append({\n",
    "                'full_img_id': full_img_id,\n",
    "                'full_img_path': full_img_path,\n",
    "                'full_seq_id': full_seq_id,\n",
    "                'project_id': project_id,\n",
    "                'project_name': project_name,\n",
    "                'deployment_id': deployment_id,\n",
    "                'site_name': site_name,\n",
    "                'species': species_str,\n",
    "                'img_id': img_id\n",
    "            })"
   ]
  },
  {
   "cell_type": "markdown",
   "metadata": {},
   "source": [
    "Images in deployements `p139d18649` only have four attributes:\n",
    "\n",
    "```\n",
    "<Element Image at 0x7f0feeb07388>\n",
    "<Element ImageId at 0x7f0feeb07288>\n",
    "<Element ImageFileName at 0x7f0feeb07508>\n",
    "<Element ImageInterestRanking at 0x7f0feebbf708>\n",
    "```\n",
    "\n",
    "Their frame number are assigned based on the image's file name."
   ]
  },
  {
   "cell_type": "code",
   "execution_count": 8,
   "metadata": {},
   "outputs": [
    {
     "data": {
      "text/plain": [
       "18604"
      ]
     },
     "execution_count": 8,
     "metadata": {},
     "output_type": "execute_result"
    }
   ],
   "source": [
    "len(sequences_list)"
   ]
  },
  {
   "cell_type": "code",
   "execution_count": 133,
   "metadata": {},
   "outputs": [
    {
     "data": {
      "text/plain": [
       "98486"
      ]
     },
     "execution_count": 133,
     "metadata": {},
     "output_type": "execute_result"
    }
   ],
   "source": [
    "len(images_list)"
   ]
  },
  {
   "cell_type": "markdown",
   "metadata": {},
   "source": [
    "### Species distribution in the 0Robert Long WA collection"
   ]
  },
  {
   "cell_type": "code",
   "execution_count": 10,
   "metadata": {},
   "outputs": [
    {
     "data": {
      "image/png": "[encoded data removed]",
      "text/plain": [
       "<Figure size 960x360 with 1 Axes>"
      ]
     },
     "metadata": {},
     "output_type": "display_data"
    }
   ],
   "source": [
    "plot_distribution(species_tally, title='Number of sequences with the species', top=30)"
   ]
  },
  {
   "cell_type": "code",
   "execution_count": 18,
   "metadata": {},
   "outputs": [
    {
     "data": {
      "image/png": "[encoded data removed]",
      "text/plain": [
       "<Figure size 960x360 with 1 Axes>"
      ]
     },
     "metadata": {},
     "output_type": "display_data"
    }
   ],
   "source": [
    "species_tally_animals = copy.deepcopy(species_tally)\n",
    "species_tally_animals['human'] = 0\n",
    "species_tally_animals['empty'] = 0\n",
    "species_tally_animals['domestic dog'] = 0\n",
    "plot_distribution(species_tally_animals, title='Number of sequences with the species, excl. human, empty, dog', top=30)"
   ]
  },
  {
   "cell_type": "markdown",
   "metadata": {},
   "source": [
    "### Species distribution in the 0Robert Long WA collection, among sequences with 20 frames or fewer"
   ]
  },
  {
   "cell_type": "code",
   "execution_count": 16,
   "metadata": {},
   "outputs": [
    {
     "data": {
      "image/png": "[encoded data removed]",
      "text/plain": [
       "<Figure size 960x360 with 1 Axes>"
      ]
     },
     "metadata": {},
     "output_type": "display_data"
    }
   ],
   "source": [
    "plot_distribution(species_tally_short_seq, title='Number of sequences with the species, num_frames <= 20', top=30)"
   ]
  },
  {
   "cell_type": "code",
   "execution_count": 19,
   "metadata": {},
   "outputs": [
    {
     "data": {
      "image/png": "[encoded data removed]",
      "text/plain": [
       "<Figure size 960x360 with 1 Axes>"
      ]
     },
     "metadata": {},
     "output_type": "display_data"
    }
   ],
   "source": [
    "species_tally_animals = copy.deepcopy(species_tally_short_seq)\n",
    "species_tally_animals['human'] = 0\n",
    "species_tally_animals['empty'] = 0\n",
    "species_tally_animals['domestic dog'] = 0\n",
    "plot_distribution(species_tally_animals, title='Number of sequences with the species, excl. human, empty, dog, num_frames <= 20', top=30)"
   ]
  },
  {
   "cell_type": "code",
   "execution_count": null,
   "metadata": {},
   "outputs": [],
   "source": []
  },
  {
   "cell_type": "markdown",
   "metadata": {},
   "source": [
    "### Understand the distribution of species and number of frames"
   ]
  },
  {
   "cell_type": "code",
   "execution_count": 134,
   "metadata": {},
   "outputs": [],
   "source": [
    "df_seq = pd.DataFrame(sequences_list)\n",
    "df_img = pd.DataFrame(images_list)"
   ]
  },
  {
   "cell_type": "code",
   "execution_count": 70,
   "metadata": {},
   "outputs": [
    {
     "data": {
      "text/plain": [
       "18604"
      ]
     },
     "execution_count": 70,
     "metadata": {},
     "output_type": "execute_result"
    },
    {
     "data": {
      "text/plain": [
       "deployment_id               object\n",
       "full_seq_id                 object\n",
       "is_daytime                    bool\n",
       "is_empty                      bool\n",
       "is_human_only                 bool\n",
       "is_multi_species              bool\n",
       "num_frames                   int64\n",
       "project_id                  object\n",
       "species                     object\n",
       "start_time          datetime64[ns]\n",
       "dtype: object"
      ]
     },
     "execution_count": 70,
     "metadata": {},
     "output_type": "execute_result"
    }
   ],
   "source": [
    "len(df_seq)\n",
    "df_seq.dtypes"
   ]
  },
  {
   "cell_type": "code",
   "execution_count": 71,
   "metadata": {},
   "outputs": [
    {
     "data": {
      "text/plain": [
       "98486"
      ]
     },
     "execution_count": 71,
     "metadata": {},
     "output_type": "execute_result"
    }
   ],
   "source": [
    "len(df_img)"
   ]
  },
  {
   "cell_type": "code",
   "execution_count": 72,
   "metadata": {},
   "outputs": [
    {
     "data": {
      "text/html": [
       "<div>\n",
       "<style scoped>\n",
       "    .dataframe tbody tr th:only-of-type {\n",
       "        vertical-align: middle;\n",
       "    }\n",
       "\n",
       "    .dataframe tbody tr th {\n",
       "        vertical-align: top;\n",
       "    }\n",
       "\n",
       "    .dataframe thead th {\n",
       "        text-align: right;\n",
       "    }\n",
       "</style>\n",
       "<table border=\"1\" class=\"dataframe\">\n",
       "  <thead>\n",
       "    <tr style=\"text-align: right;\">\n",
       "      <th></th>\n",
       "      <th>deployment_id</th>\n",
       "      <th>full_seq_id</th>\n",
       "      <th>is_daytime</th>\n",
       "      <th>is_empty</th>\n",
       "      <th>is_human_only</th>\n",
       "      <th>is_multi_species</th>\n",
       "      <th>num_frames</th>\n",
       "      <th>project_id</th>\n",
       "      <th>species</th>\n",
       "      <th>start_time</th>\n",
       "    </tr>\n",
       "  </thead>\n",
       "  <tbody>\n",
       "    <tr>\n",
       "      <th>7878</th>\n",
       "      <td>d34708</td>\n",
       "      <td>datasetemammal.projectp158.deploymentd34708.se...</td>\n",
       "      <td>False</td>\n",
       "      <td>False</td>\n",
       "      <td>False</td>\n",
       "      <td>False</td>\n",
       "      <td>2</td>\n",
       "      <td>p158</td>\n",
       "      <td>eastern cottontail</td>\n",
       "      <td>2016-10-21 23:22:05</td>\n",
       "    </tr>\n",
       "    <tr>\n",
       "      <th>1831</th>\n",
       "      <td>d34797</td>\n",
       "      <td>datasetemammal.projectp158.deploymentd34797.se...</td>\n",
       "      <td>True</td>\n",
       "      <td>False</td>\n",
       "      <td>True</td>\n",
       "      <td>False</td>\n",
       "      <td>9</td>\n",
       "      <td>p158</td>\n",
       "      <td>human</td>\n",
       "      <td>2017-04-08 11:49:15</td>\n",
       "    </tr>\n",
       "    <tr>\n",
       "      <th>13024</th>\n",
       "      <td>d34793</td>\n",
       "      <td>datasetemammal.projectp158.deploymentd34793.se...</td>\n",
       "      <td>True</td>\n",
       "      <td>False</td>\n",
       "      <td>False</td>\n",
       "      <td>True</td>\n",
       "      <td>6</td>\n",
       "      <td>p158</td>\n",
       "      <td>domestic dog;human</td>\n",
       "      <td>2017-02-22 07:47:02</td>\n",
       "    </tr>\n",
       "    <tr>\n",
       "      <th>5487</th>\n",
       "      <td>d34740</td>\n",
       "      <td>datasetemammal.projectp158.deploymentd34740.se...</td>\n",
       "      <td>True</td>\n",
       "      <td>False</td>\n",
       "      <td>False</td>\n",
       "      <td>True</td>\n",
       "      <td>1</td>\n",
       "      <td>p158</td>\n",
       "      <td>domestic dog;human</td>\n",
       "      <td>2016-10-23 14:33:37</td>\n",
       "    </tr>\n",
       "    <tr>\n",
       "      <th>12081</th>\n",
       "      <td>d34686</td>\n",
       "      <td>datasetemammal.projectp158.deploymentd34686.se...</td>\n",
       "      <td>True</td>\n",
       "      <td>False</td>\n",
       "      <td>True</td>\n",
       "      <td>False</td>\n",
       "      <td>1</td>\n",
       "      <td>p158</td>\n",
       "      <td>human</td>\n",
       "      <td>2016-08-26 10:34:30</td>\n",
       "    </tr>\n",
       "  </tbody>\n",
       "</table>\n",
       "</div>"
      ],
      "text/plain": [
       "      deployment_id                                        full_seq_id  \\\n",
       "7878         d34708  datasetemammal.projectp158.deploymentd34708.se...   \n",
       "1831         d34797  datasetemammal.projectp158.deploymentd34797.se...   \n",
       "13024        d34793  datasetemammal.projectp158.deploymentd34793.se...   \n",
       "5487         d34740  datasetemammal.projectp158.deploymentd34740.se...   \n",
       "12081        d34686  datasetemammal.projectp158.deploymentd34686.se...   \n",
       "\n",
       "       is_daytime  is_empty  is_human_only  is_multi_species  num_frames  \\\n",
       "7878        False     False          False             False           2   \n",
       "1831         True     False           True             False           9   \n",
       "13024        True     False          False              True           6   \n",
       "5487         True     False          False              True           1   \n",
       "12081        True     False           True             False           1   \n",
       "\n",
       "      project_id             species          start_time  \n",
       "7878        p158  eastern cottontail 2016-10-21 23:22:05  \n",
       "1831        p158               human 2017-04-08 11:49:15  \n",
       "13024       p158  domestic dog;human 2017-02-22 07:47:02  \n",
       "5487        p158  domestic dog;human 2016-10-23 14:33:37  \n",
       "12081       p158               human 2016-08-26 10:34:30  "
      ]
     },
     "execution_count": 72,
     "metadata": {},
     "output_type": "execute_result"
    }
   ],
   "source": [
    "df_seq.sample(n=5)"
   ]
  },
  {
   "cell_type": "code",
   "execution_count": 73,
   "metadata": {},
   "outputs": [
    {
     "data": {
      "text/html": [
       "<div>\n",
       "<style scoped>\n",
       "    .dataframe tbody tr th:only-of-type {\n",
       "        vertical-align: middle;\n",
       "    }\n",
       "\n",
       "    .dataframe tbody tr th {\n",
       "        vertical-align: top;\n",
       "    }\n",
       "\n",
       "    .dataframe thead th {\n",
       "        text-align: right;\n",
       "    }\n",
       "</style>\n",
       "<table border=\"1\" class=\"dataframe\">\n",
       "  <thead>\n",
       "    <tr style=\"text-align: right;\">\n",
       "      <th></th>\n",
       "      <th>full_img_id</th>\n",
       "      <th>full_img_path</th>\n",
       "      <th>full_seq_id</th>\n",
       "    </tr>\n",
       "  </thead>\n",
       "  <tbody>\n",
       "    <tr>\n",
       "      <th>18501</th>\n",
       "      <td>datasetemammal.projectp158.deploymentd34787.se...</td>\n",
       "      <td>/datadrive/emammal/p158d34787/d34787s429i2.JPG</td>\n",
       "      <td>datasetemammal.projectp158.deploymentd34787.se...</td>\n",
       "    </tr>\n",
       "    <tr>\n",
       "      <th>29296</th>\n",
       "      <td>datasetemammal.projectp158.deploymentd34740.se...</td>\n",
       "      <td>/datadrive/emammal/p158d34740/d34740s1253i1.JPG</td>\n",
       "      <td>datasetemammal.projectp158.deploymentd34740.se...</td>\n",
       "    </tr>\n",
       "    <tr>\n",
       "      <th>49578</th>\n",
       "      <td>datasetemammal.projectp158.deploymentd34644.se...</td>\n",
       "      <td>/datadrive/emammal/p158d34644/d34644s64i5.JPG</td>\n",
       "      <td>datasetemammal.projectp158.deploymentd34644.se...</td>\n",
       "    </tr>\n",
       "  </tbody>\n",
       "</table>\n",
       "</div>"
      ],
      "text/plain": [
       "                                             full_img_id  \\\n",
       "18501  datasetemammal.projectp158.deploymentd34787.se...   \n",
       "29296  datasetemammal.projectp158.deploymentd34740.se...   \n",
       "49578  datasetemammal.projectp158.deploymentd34644.se...   \n",
       "\n",
       "                                         full_img_path  \\\n",
       "18501   /datadrive/emammal/p158d34787/d34787s429i2.JPG   \n",
       "29296  /datadrive/emammal/p158d34740/d34740s1253i1.JPG   \n",
       "49578    /datadrive/emammal/p158d34644/d34644s64i5.JPG   \n",
       "\n",
       "                                             full_seq_id  \n",
       "18501  datasetemammal.projectp158.deploymentd34787.se...  \n",
       "29296  datasetemammal.projectp158.deploymentd34740.se...  \n",
       "49578  datasetemammal.projectp158.deploymentd34644.se...  "
      ]
     },
     "execution_count": 73,
     "metadata": {},
     "output_type": "execute_result"
    }
   ],
   "source": [
    "df_img.sample(n=3)"
   ]
  },
  {
   "cell_type": "markdown",
   "metadata": {},
   "source": [
    "#### Refine the sequences we want to label"
   ]
  },
  {
   "cell_type": "code",
   "execution_count": 74,
   "metadata": {},
   "outputs": [],
   "source": [
    "df_seq_animals = df_seq[(df_seq.is_empty == False) & (df_seq.is_human_only == False)]"
   ]
  },
  {
   "cell_type": "code",
   "execution_count": 75,
   "metadata": {},
   "outputs": [
    {
     "data": {
      "text/html": [
       "<div>\n",
       "<style scoped>\n",
       "    .dataframe tbody tr th:only-of-type {\n",
       "        vertical-align: middle;\n",
       "    }\n",
       "\n",
       "    .dataframe tbody tr th {\n",
       "        vertical-align: top;\n",
       "    }\n",
       "\n",
       "    .dataframe thead th {\n",
       "        text-align: right;\n",
       "    }\n",
       "</style>\n",
       "<table border=\"1\" class=\"dataframe\">\n",
       "  <thead>\n",
       "    <tr style=\"text-align: right;\">\n",
       "      <th></th>\n",
       "      <th>deployment_id</th>\n",
       "      <th>full_seq_id</th>\n",
       "      <th>is_daytime</th>\n",
       "      <th>is_empty</th>\n",
       "      <th>is_human_only</th>\n",
       "      <th>is_multi_species</th>\n",
       "      <th>num_frames</th>\n",
       "      <th>project_id</th>\n",
       "      <th>species</th>\n",
       "      <th>start_time</th>\n",
       "    </tr>\n",
       "  </thead>\n",
       "  <tbody>\n",
       "    <tr>\n",
       "      <th>1</th>\n",
       "      <td>d34795</td>\n",
       "      <td>datasetemammal.projectp158.deploymentd34795.se...</td>\n",
       "      <td>True</td>\n",
       "      <td>False</td>\n",
       "      <td>False</td>\n",
       "      <td>False</td>\n",
       "      <td>6</td>\n",
       "      <td>p158</td>\n",
       "      <td>domestic cat</td>\n",
       "      <td>2017-03-02 14:35:55</td>\n",
       "    </tr>\n",
       "    <tr>\n",
       "      <th>2</th>\n",
       "      <td>d34795</td>\n",
       "      <td>datasetemammal.projectp158.deploymentd34795.se...</td>\n",
       "      <td>True</td>\n",
       "      <td>False</td>\n",
       "      <td>False</td>\n",
       "      <td>False</td>\n",
       "      <td>3</td>\n",
       "      <td>p158</td>\n",
       "      <td>domestic cat</td>\n",
       "      <td>2017-03-02 14:39:31</td>\n",
       "    </tr>\n",
       "    <tr>\n",
       "      <th>3</th>\n",
       "      <td>d34795</td>\n",
       "      <td>datasetemammal.projectp158.deploymentd34795.se...</td>\n",
       "      <td>True</td>\n",
       "      <td>False</td>\n",
       "      <td>False</td>\n",
       "      <td>False</td>\n",
       "      <td>3</td>\n",
       "      <td>p158</td>\n",
       "      <td>domestic cat</td>\n",
       "      <td>2017-03-02 15:32:25</td>\n",
       "    </tr>\n",
       "    <tr>\n",
       "      <th>4</th>\n",
       "      <td>d34795</td>\n",
       "      <td>datasetemammal.projectp158.deploymentd34795.se...</td>\n",
       "      <td>True</td>\n",
       "      <td>False</td>\n",
       "      <td>False</td>\n",
       "      <td>False</td>\n",
       "      <td>6</td>\n",
       "      <td>p158</td>\n",
       "      <td>mule deer</td>\n",
       "      <td>2017-03-03 16:43:46</td>\n",
       "    </tr>\n",
       "    <tr>\n",
       "      <th>7</th>\n",
       "      <td>d34795</td>\n",
       "      <td>datasetemammal.projectp158.deploymentd34795.se...</td>\n",
       "      <td>True</td>\n",
       "      <td>False</td>\n",
       "      <td>False</td>\n",
       "      <td>False</td>\n",
       "      <td>6</td>\n",
       "      <td>p158</td>\n",
       "      <td>domestic cat</td>\n",
       "      <td>2017-03-16 17:51:32</td>\n",
       "    </tr>\n",
       "    <tr>\n",
       "      <th>8</th>\n",
       "      <td>d34795</td>\n",
       "      <td>datasetemammal.projectp158.deploymentd34795.se...</td>\n",
       "      <td>True</td>\n",
       "      <td>False</td>\n",
       "      <td>False</td>\n",
       "      <td>False</td>\n",
       "      <td>9</td>\n",
       "      <td>p158</td>\n",
       "      <td>eastern cottontail</td>\n",
       "      <td>2017-03-16 18:46:40</td>\n",
       "    </tr>\n",
       "    <tr>\n",
       "      <th>9</th>\n",
       "      <td>d34795</td>\n",
       "      <td>datasetemammal.projectp158.deploymentd34795.se...</td>\n",
       "      <td>True</td>\n",
       "      <td>False</td>\n",
       "      <td>False</td>\n",
       "      <td>True</td>\n",
       "      <td>3</td>\n",
       "      <td>p158</td>\n",
       "      <td>domestic dog;human</td>\n",
       "      <td>2017-03-18 15:35:54</td>\n",
       "    </tr>\n",
       "    <tr>\n",
       "      <th>12</th>\n",
       "      <td>d34795</td>\n",
       "      <td>datasetemammal.projectp158.deploymentd34795.se...</td>\n",
       "      <td>True</td>\n",
       "      <td>False</td>\n",
       "      <td>False</td>\n",
       "      <td>True</td>\n",
       "      <td>3</td>\n",
       "      <td>p158</td>\n",
       "      <td>domestic dog;human</td>\n",
       "      <td>2017-03-19 16:51:52</td>\n",
       "    </tr>\n",
       "    <tr>\n",
       "      <th>13</th>\n",
       "      <td>d34795</td>\n",
       "      <td>datasetemammal.projectp158.deploymentd34795.se...</td>\n",
       "      <td>False</td>\n",
       "      <td>False</td>\n",
       "      <td>False</td>\n",
       "      <td>False</td>\n",
       "      <td>3</td>\n",
       "      <td>p158</td>\n",
       "      <td>unknown animal</td>\n",
       "      <td>2017-03-26 00:22:58</td>\n",
       "    </tr>\n",
       "    <tr>\n",
       "      <th>16</th>\n",
       "      <td>d34795</td>\n",
       "      <td>datasetemammal.projectp158.deploymentd34795.se...</td>\n",
       "      <td>False</td>\n",
       "      <td>False</td>\n",
       "      <td>False</td>\n",
       "      <td>False</td>\n",
       "      <td>18</td>\n",
       "      <td>p158</td>\n",
       "      <td>mule deer</td>\n",
       "      <td>2017-02-20 23:23:47</td>\n",
       "    </tr>\n",
       "    <tr>\n",
       "      <th>17</th>\n",
       "      <td>d34795</td>\n",
       "      <td>datasetemammal.projectp158.deploymentd34795.se...</td>\n",
       "      <td>False</td>\n",
       "      <td>False</td>\n",
       "      <td>False</td>\n",
       "      <td>False</td>\n",
       "      <td>6</td>\n",
       "      <td>p158</td>\n",
       "      <td>mule deer</td>\n",
       "      <td>2017-02-20 23:28:13</td>\n",
       "    </tr>\n",
       "    <tr>\n",
       "      <th>25</th>\n",
       "      <td>d19296</td>\n",
       "      <td>datasetemammal.projectp139.deploymentd19296.se...</td>\n",
       "      <td>True</td>\n",
       "      <td>False</td>\n",
       "      <td>False</td>\n",
       "      <td>False</td>\n",
       "      <td>5</td>\n",
       "      <td>p139</td>\n",
       "      <td>unknown squirrel</td>\n",
       "      <td>2015-07-29 13:33:44</td>\n",
       "    </tr>\n",
       "    <tr>\n",
       "      <th>26</th>\n",
       "      <td>d19296</td>\n",
       "      <td>datasetemammal.projectp139.deploymentd19296.se...</td>\n",
       "      <td>False</td>\n",
       "      <td>False</td>\n",
       "      <td>False</td>\n",
       "      <td>False</td>\n",
       "      <td>35</td>\n",
       "      <td>p139</td>\n",
       "      <td>american black bear</td>\n",
       "      <td>2015-07-29 21:03:27</td>\n",
       "    </tr>\n",
       "    <tr>\n",
       "      <th>29</th>\n",
       "      <td>d19296</td>\n",
       "      <td>datasetemammal.projectp139.deploymentd19296.se...</td>\n",
       "      <td>True</td>\n",
       "      <td>False</td>\n",
       "      <td>False</td>\n",
       "      <td>False</td>\n",
       "      <td>5</td>\n",
       "      <td>p139</td>\n",
       "      <td>unknown squirrel</td>\n",
       "      <td>2015-07-30 08:13:03</td>\n",
       "    </tr>\n",
       "    <tr>\n",
       "      <th>30</th>\n",
       "      <td>d19296</td>\n",
       "      <td>datasetemammal.projectp139.deploymentd19296.se...</td>\n",
       "      <td>True</td>\n",
       "      <td>False</td>\n",
       "      <td>False</td>\n",
       "      <td>False</td>\n",
       "      <td>5</td>\n",
       "      <td>p139</td>\n",
       "      <td>unknown bird</td>\n",
       "      <td>2015-08-02 07:06:03</td>\n",
       "    </tr>\n",
       "    <tr>\n",
       "      <th>31</th>\n",
       "      <td>d19296</td>\n",
       "      <td>datasetemammal.projectp139.deploymentd19296.se...</td>\n",
       "      <td>True</td>\n",
       "      <td>False</td>\n",
       "      <td>False</td>\n",
       "      <td>False</td>\n",
       "      <td>5</td>\n",
       "      <td>p139</td>\n",
       "      <td>american badger</td>\n",
       "      <td>2015-08-03 18:05:12</td>\n",
       "    </tr>\n",
       "    <tr>\n",
       "      <th>32</th>\n",
       "      <td>d19296</td>\n",
       "      <td>datasetemammal.projectp139.deploymentd19296.se...</td>\n",
       "      <td>True</td>\n",
       "      <td>False</td>\n",
       "      <td>False</td>\n",
       "      <td>False</td>\n",
       "      <td>5</td>\n",
       "      <td>p139</td>\n",
       "      <td>unknown animal</td>\n",
       "      <td>2015-08-03 18:11:02</td>\n",
       "    </tr>\n",
       "    <tr>\n",
       "      <th>33</th>\n",
       "      <td>d19296</td>\n",
       "      <td>datasetemammal.projectp139.deploymentd19296.se...</td>\n",
       "      <td>True</td>\n",
       "      <td>False</td>\n",
       "      <td>False</td>\n",
       "      <td>False</td>\n",
       "      <td>5</td>\n",
       "      <td>p139</td>\n",
       "      <td>unknown bird</td>\n",
       "      <td>2015-08-04 09:17:14</td>\n",
       "    </tr>\n",
       "    <tr>\n",
       "      <th>34</th>\n",
       "      <td>d19296</td>\n",
       "      <td>datasetemammal.projectp139.deploymentd19296.se...</td>\n",
       "      <td>False</td>\n",
       "      <td>False</td>\n",
       "      <td>False</td>\n",
       "      <td>False</td>\n",
       "      <td>5</td>\n",
       "      <td>p139</td>\n",
       "      <td>canada lynx</td>\n",
       "      <td>2015-07-20 22:20:20</td>\n",
       "    </tr>\n",
       "    <tr>\n",
       "      <th>35</th>\n",
       "      <td>d19296</td>\n",
       "      <td>datasetemammal.projectp139.deploymentd19296.se...</td>\n",
       "      <td>True</td>\n",
       "      <td>False</td>\n",
       "      <td>False</td>\n",
       "      <td>False</td>\n",
       "      <td>20</td>\n",
       "      <td>p139</td>\n",
       "      <td>mule deer</td>\n",
       "      <td>2015-08-11 07:05:37</td>\n",
       "    </tr>\n",
       "    <tr>\n",
       "      <th>38</th>\n",
       "      <td>d19296</td>\n",
       "      <td>datasetemammal.projectp139.deploymentd19296.se...</td>\n",
       "      <td>False</td>\n",
       "      <td>False</td>\n",
       "      <td>False</td>\n",
       "      <td>False</td>\n",
       "      <td>70</td>\n",
       "      <td>p139</td>\n",
       "      <td>mule deer</td>\n",
       "      <td>2015-08-19 05:42:48</td>\n",
       "    </tr>\n",
       "    <tr>\n",
       "      <th>39</th>\n",
       "      <td>d19296</td>\n",
       "      <td>datasetemammal.projectp139.deploymentd19296.se...</td>\n",
       "      <td>False</td>\n",
       "      <td>False</td>\n",
       "      <td>False</td>\n",
       "      <td>False</td>\n",
       "      <td>5</td>\n",
       "      <td>p139</td>\n",
       "      <td>mule deer</td>\n",
       "      <td>2015-08-19 05:47:58</td>\n",
       "    </tr>\n",
       "    <tr>\n",
       "      <th>40</th>\n",
       "      <td>d19296</td>\n",
       "      <td>datasetemammal.projectp139.deploymentd19296.se...</td>\n",
       "      <td>True</td>\n",
       "      <td>False</td>\n",
       "      <td>False</td>\n",
       "      <td>False</td>\n",
       "      <td>5</td>\n",
       "      <td>p139</td>\n",
       "      <td>unknown chipmunk</td>\n",
       "      <td>2015-08-23 19:37:53</td>\n",
       "    </tr>\n",
       "    <tr>\n",
       "      <th>41</th>\n",
       "      <td>d19296</td>\n",
       "      <td>datasetemammal.projectp139.deploymentd19296.se...</td>\n",
       "      <td>False</td>\n",
       "      <td>False</td>\n",
       "      <td>False</td>\n",
       "      <td>False</td>\n",
       "      <td>15</td>\n",
       "      <td>p139</td>\n",
       "      <td>mule deer</td>\n",
       "      <td>2015-08-28 20:33:30</td>\n",
       "    </tr>\n",
       "    <tr>\n",
       "      <th>42</th>\n",
       "      <td>d19296</td>\n",
       "      <td>datasetemammal.projectp139.deploymentd19296.se...</td>\n",
       "      <td>True</td>\n",
       "      <td>False</td>\n",
       "      <td>False</td>\n",
       "      <td>False</td>\n",
       "      <td>5</td>\n",
       "      <td>p139</td>\n",
       "      <td>unknown bird</td>\n",
       "      <td>2015-09-03 12:31:29</td>\n",
       "    </tr>\n",
       "    <tr>\n",
       "      <th>43</th>\n",
       "      <td>d19296</td>\n",
       "      <td>datasetemammal.projectp139.deploymentd19296.se...</td>\n",
       "      <td>False</td>\n",
       "      <td>False</td>\n",
       "      <td>False</td>\n",
       "      <td>False</td>\n",
       "      <td>5</td>\n",
       "      <td>p139</td>\n",
       "      <td>unknown small weasel</td>\n",
       "      <td>2015-09-03 22:52:25</td>\n",
       "    </tr>\n",
       "    <tr>\n",
       "      <th>44</th>\n",
       "      <td>d19296</td>\n",
       "      <td>datasetemammal.projectp139.deploymentd19296.se...</td>\n",
       "      <td>False</td>\n",
       "      <td>False</td>\n",
       "      <td>False</td>\n",
       "      <td>False</td>\n",
       "      <td>5</td>\n",
       "      <td>p139</td>\n",
       "      <td>unknown small weasel</td>\n",
       "      <td>2015-09-05 20:57:45</td>\n",
       "    </tr>\n",
       "    <tr>\n",
       "      <th>45</th>\n",
       "      <td>d19296</td>\n",
       "      <td>datasetemammal.projectp139.deploymentd19296.se...</td>\n",
       "      <td>False</td>\n",
       "      <td>False</td>\n",
       "      <td>False</td>\n",
       "      <td>False</td>\n",
       "      <td>5</td>\n",
       "      <td>p139</td>\n",
       "      <td>canada lynx</td>\n",
       "      <td>2015-07-20 22:25:41</td>\n",
       "    </tr>\n",
       "    <tr>\n",
       "      <th>49</th>\n",
       "      <td>d19296</td>\n",
       "      <td>datasetemammal.projectp139.deploymentd19296.se...</td>\n",
       "      <td>True</td>\n",
       "      <td>False</td>\n",
       "      <td>False</td>\n",
       "      <td>False</td>\n",
       "      <td>5</td>\n",
       "      <td>p139</td>\n",
       "      <td>canada lynx</td>\n",
       "      <td>2015-09-28 07:45:30</td>\n",
       "    </tr>\n",
       "    <tr>\n",
       "      <th>56</th>\n",
       "      <td>d19296</td>\n",
       "      <td>datasetemammal.projectp139.deploymentd19296.se...</td>\n",
       "      <td>True</td>\n",
       "      <td>False</td>\n",
       "      <td>False</td>\n",
       "      <td>False</td>\n",
       "      <td>5</td>\n",
       "      <td>p139</td>\n",
       "      <td>unknown squirrel</td>\n",
       "      <td>2015-07-22 12:45:06</td>\n",
       "    </tr>\n",
       "    <tr>\n",
       "      <th>...</th>\n",
       "      <td>...</td>\n",
       "      <td>...</td>\n",
       "      <td>...</td>\n",
       "      <td>...</td>\n",
       "      <td>...</td>\n",
       "      <td>...</td>\n",
       "      <td>...</td>\n",
       "      <td>...</td>\n",
       "      <td>...</td>\n",
       "      <td>...</td>\n",
       "    </tr>\n",
       "    <tr>\n",
       "      <th>18476</th>\n",
       "      <td>d21177</td>\n",
       "      <td>datasetemammal.projectp158.deploymentd21177.se...</td>\n",
       "      <td>True</td>\n",
       "      <td>False</td>\n",
       "      <td>False</td>\n",
       "      <td>False</td>\n",
       "      <td>6</td>\n",
       "      <td>p158</td>\n",
       "      <td>bobcat</td>\n",
       "      <td>2016-02-23 18:25:22</td>\n",
       "    </tr>\n",
       "    <tr>\n",
       "      <th>18477</th>\n",
       "      <td>d21177</td>\n",
       "      <td>datasetemammal.projectp158.deploymentd21177.se...</td>\n",
       "      <td>False</td>\n",
       "      <td>False</td>\n",
       "      <td>False</td>\n",
       "      <td>False</td>\n",
       "      <td>9</td>\n",
       "      <td>p158</td>\n",
       "      <td>bobcat</td>\n",
       "      <td>2016-02-24 03:50:47</td>\n",
       "    </tr>\n",
       "    <tr>\n",
       "      <th>18478</th>\n",
       "      <td>d21177</td>\n",
       "      <td>datasetemammal.projectp158.deploymentd21177.se...</td>\n",
       "      <td>False</td>\n",
       "      <td>False</td>\n",
       "      <td>False</td>\n",
       "      <td>False</td>\n",
       "      <td>69</td>\n",
       "      <td>p158</td>\n",
       "      <td>mule deer</td>\n",
       "      <td>2016-02-25 22:09:35</td>\n",
       "    </tr>\n",
       "    <tr>\n",
       "      <th>18479</th>\n",
       "      <td>d21177</td>\n",
       "      <td>datasetemammal.projectp158.deploymentd21177.se...</td>\n",
       "      <td>False</td>\n",
       "      <td>False</td>\n",
       "      <td>False</td>\n",
       "      <td>False</td>\n",
       "      <td>9</td>\n",
       "      <td>p158</td>\n",
       "      <td>mule deer</td>\n",
       "      <td>2016-02-25 22:12:39</td>\n",
       "    </tr>\n",
       "    <tr>\n",
       "      <th>18492</th>\n",
       "      <td>d34676</td>\n",
       "      <td>datasetemammal.projectp158.deploymentd34676.se...</td>\n",
       "      <td>True</td>\n",
       "      <td>False</td>\n",
       "      <td>False</td>\n",
       "      <td>False</td>\n",
       "      <td>15</td>\n",
       "      <td>p158</td>\n",
       "      <td>domestic cow</td>\n",
       "      <td>2016-08-01 14:54:59</td>\n",
       "    </tr>\n",
       "    <tr>\n",
       "      <th>18499</th>\n",
       "      <td>d34676</td>\n",
       "      <td>datasetemammal.projectp158.deploymentd34676.se...</td>\n",
       "      <td>False</td>\n",
       "      <td>False</td>\n",
       "      <td>False</td>\n",
       "      <td>False</td>\n",
       "      <td>6</td>\n",
       "      <td>p158</td>\n",
       "      <td>mule deer</td>\n",
       "      <td>2016-09-01 00:33:47</td>\n",
       "    </tr>\n",
       "    <tr>\n",
       "      <th>18500</th>\n",
       "      <td>d34676</td>\n",
       "      <td>datasetemammal.projectp158.deploymentd34676.se...</td>\n",
       "      <td>False</td>\n",
       "      <td>False</td>\n",
       "      <td>False</td>\n",
       "      <td>False</td>\n",
       "      <td>6</td>\n",
       "      <td>p158</td>\n",
       "      <td>unknown animal</td>\n",
       "      <td>2016-09-02 20:19:25</td>\n",
       "    </tr>\n",
       "    <tr>\n",
       "      <th>18501</th>\n",
       "      <td>d34676</td>\n",
       "      <td>datasetemammal.projectp158.deploymentd34676.se...</td>\n",
       "      <td>False</td>\n",
       "      <td>False</td>\n",
       "      <td>False</td>\n",
       "      <td>False</td>\n",
       "      <td>6</td>\n",
       "      <td>p158</td>\n",
       "      <td>mule deer</td>\n",
       "      <td>2016-09-03 03:45:34</td>\n",
       "    </tr>\n",
       "    <tr>\n",
       "      <th>18502</th>\n",
       "      <td>d34676</td>\n",
       "      <td>datasetemammal.projectp158.deploymentd34676.se...</td>\n",
       "      <td>True</td>\n",
       "      <td>False</td>\n",
       "      <td>False</td>\n",
       "      <td>True</td>\n",
       "      <td>3</td>\n",
       "      <td>p158</td>\n",
       "      <td>domestic cow;mule deer</td>\n",
       "      <td>2016-09-03 19:00:01</td>\n",
       "    </tr>\n",
       "    <tr>\n",
       "      <th>18503</th>\n",
       "      <td>d34676</td>\n",
       "      <td>datasetemammal.projectp158.deploymentd34676.se...</td>\n",
       "      <td>True</td>\n",
       "      <td>False</td>\n",
       "      <td>False</td>\n",
       "      <td>False</td>\n",
       "      <td>3</td>\n",
       "      <td>p158</td>\n",
       "      <td>domestic cow</td>\n",
       "      <td>2016-08-01 14:59:34</td>\n",
       "    </tr>\n",
       "    <tr>\n",
       "      <th>18504</th>\n",
       "      <td>d34676</td>\n",
       "      <td>datasetemammal.projectp158.deploymentd34676.se...</td>\n",
       "      <td>True</td>\n",
       "      <td>False</td>\n",
       "      <td>False</td>\n",
       "      <td>False</td>\n",
       "      <td>3</td>\n",
       "      <td>p158</td>\n",
       "      <td>mule deer</td>\n",
       "      <td>2016-09-03 19:46:30</td>\n",
       "    </tr>\n",
       "    <tr>\n",
       "      <th>18505</th>\n",
       "      <td>d34676</td>\n",
       "      <td>datasetemammal.projectp158.deploymentd34676.se...</td>\n",
       "      <td>False</td>\n",
       "      <td>False</td>\n",
       "      <td>False</td>\n",
       "      <td>False</td>\n",
       "      <td>9</td>\n",
       "      <td>p158</td>\n",
       "      <td>mule deer</td>\n",
       "      <td>2016-09-03 20:30:00</td>\n",
       "    </tr>\n",
       "    <tr>\n",
       "      <th>18506</th>\n",
       "      <td>d34676</td>\n",
       "      <td>datasetemammal.projectp158.deploymentd34676.se...</td>\n",
       "      <td>True</td>\n",
       "      <td>False</td>\n",
       "      <td>False</td>\n",
       "      <td>False</td>\n",
       "      <td>15</td>\n",
       "      <td>p158</td>\n",
       "      <td>mule deer</td>\n",
       "      <td>2016-09-04 06:09:32</td>\n",
       "    </tr>\n",
       "    <tr>\n",
       "      <th>18507</th>\n",
       "      <td>d34676</td>\n",
       "      <td>datasetemammal.projectp158.deploymentd34676.se...</td>\n",
       "      <td>False</td>\n",
       "      <td>False</td>\n",
       "      <td>False</td>\n",
       "      <td>False</td>\n",
       "      <td>12</td>\n",
       "      <td>p158</td>\n",
       "      <td>mule deer</td>\n",
       "      <td>2016-09-05 05:29:37</td>\n",
       "    </tr>\n",
       "    <tr>\n",
       "      <th>18509</th>\n",
       "      <td>d34676</td>\n",
       "      <td>datasetemammal.projectp158.deploymentd34676.se...</td>\n",
       "      <td>True</td>\n",
       "      <td>False</td>\n",
       "      <td>False</td>\n",
       "      <td>False</td>\n",
       "      <td>3</td>\n",
       "      <td>p158</td>\n",
       "      <td>domestic cow</td>\n",
       "      <td>2016-08-01 15:02:12</td>\n",
       "    </tr>\n",
       "    <tr>\n",
       "      <th>18510</th>\n",
       "      <td>d34676</td>\n",
       "      <td>datasetemammal.projectp158.deploymentd34676.se...</td>\n",
       "      <td>True</td>\n",
       "      <td>False</td>\n",
       "      <td>False</td>\n",
       "      <td>False</td>\n",
       "      <td>15</td>\n",
       "      <td>p158</td>\n",
       "      <td>domestic cow</td>\n",
       "      <td>2016-08-01 15:05:51</td>\n",
       "    </tr>\n",
       "    <tr>\n",
       "      <th>18511</th>\n",
       "      <td>d34676</td>\n",
       "      <td>datasetemammal.projectp158.deploymentd34676.se...</td>\n",
       "      <td>True</td>\n",
       "      <td>False</td>\n",
       "      <td>False</td>\n",
       "      <td>False</td>\n",
       "      <td>3</td>\n",
       "      <td>p158</td>\n",
       "      <td>domestic cow</td>\n",
       "      <td>2016-08-01 16:15:42</td>\n",
       "    </tr>\n",
       "    <tr>\n",
       "      <th>18512</th>\n",
       "      <td>d34676</td>\n",
       "      <td>datasetemammal.projectp158.deploymentd34676.se...</td>\n",
       "      <td>True</td>\n",
       "      <td>False</td>\n",
       "      <td>False</td>\n",
       "      <td>False</td>\n",
       "      <td>3</td>\n",
       "      <td>p158</td>\n",
       "      <td>domestic cow</td>\n",
       "      <td>2016-08-02 19:29:35</td>\n",
       "    </tr>\n",
       "    <tr>\n",
       "      <th>18513</th>\n",
       "      <td>d34676</td>\n",
       "      <td>datasetemammal.projectp158.deploymentd34676.se...</td>\n",
       "      <td>True</td>\n",
       "      <td>False</td>\n",
       "      <td>False</td>\n",
       "      <td>False</td>\n",
       "      <td>6</td>\n",
       "      <td>p158</td>\n",
       "      <td>domestic cow</td>\n",
       "      <td>2016-08-02 19:35:43</td>\n",
       "    </tr>\n",
       "    <tr>\n",
       "      <th>18514</th>\n",
       "      <td>d34676</td>\n",
       "      <td>datasetemammal.projectp158.deploymentd34676.se...</td>\n",
       "      <td>False</td>\n",
       "      <td>False</td>\n",
       "      <td>False</td>\n",
       "      <td>False</td>\n",
       "      <td>3</td>\n",
       "      <td>p158</td>\n",
       "      <td>unknown animal</td>\n",
       "      <td>2016-08-02 21:12:46</td>\n",
       "    </tr>\n",
       "    <tr>\n",
       "      <th>18515</th>\n",
       "      <td>d34676</td>\n",
       "      <td>datasetemammal.projectp158.deploymentd34676.se...</td>\n",
       "      <td>False</td>\n",
       "      <td>False</td>\n",
       "      <td>False</td>\n",
       "      <td>False</td>\n",
       "      <td>3</td>\n",
       "      <td>p158</td>\n",
       "      <td>unknown animal</td>\n",
       "      <td>2016-08-02 21:14:53</td>\n",
       "    </tr>\n",
       "    <tr>\n",
       "      <th>18517</th>\n",
       "      <td>d34676</td>\n",
       "      <td>datasetemammal.projectp158.deploymentd34676.se...</td>\n",
       "      <td>False</td>\n",
       "      <td>False</td>\n",
       "      <td>False</td>\n",
       "      <td>False</td>\n",
       "      <td>6</td>\n",
       "      <td>p158</td>\n",
       "      <td>domestic cow</td>\n",
       "      <td>2016-08-02 21:18:17</td>\n",
       "    </tr>\n",
       "    <tr>\n",
       "      <th>18519</th>\n",
       "      <td>d34676</td>\n",
       "      <td>datasetemammal.projectp158.deploymentd34676.se...</td>\n",
       "      <td>False</td>\n",
       "      <td>False</td>\n",
       "      <td>False</td>\n",
       "      <td>False</td>\n",
       "      <td>6</td>\n",
       "      <td>p158</td>\n",
       "      <td>domestic cow</td>\n",
       "      <td>2016-08-02 21:41:54</td>\n",
       "    </tr>\n",
       "    <tr>\n",
       "      <th>18521</th>\n",
       "      <td>d34676</td>\n",
       "      <td>datasetemammal.projectp158.deploymentd34676.se...</td>\n",
       "      <td>True</td>\n",
       "      <td>False</td>\n",
       "      <td>False</td>\n",
       "      <td>False</td>\n",
       "      <td>3</td>\n",
       "      <td>p158</td>\n",
       "      <td>domestic cow</td>\n",
       "      <td>2016-08-03 15:23:50</td>\n",
       "    </tr>\n",
       "    <tr>\n",
       "      <th>18522</th>\n",
       "      <td>d34676</td>\n",
       "      <td>datasetemammal.projectp158.deploymentd34676.se...</td>\n",
       "      <td>True</td>\n",
       "      <td>False</td>\n",
       "      <td>False</td>\n",
       "      <td>False</td>\n",
       "      <td>3</td>\n",
       "      <td>p158</td>\n",
       "      <td>domestic cow</td>\n",
       "      <td>2016-08-03 15:25:58</td>\n",
       "    </tr>\n",
       "    <tr>\n",
       "      <th>18527</th>\n",
       "      <td>d34676</td>\n",
       "      <td>datasetemammal.projectp158.deploymentd34676.se...</td>\n",
       "      <td>True</td>\n",
       "      <td>False</td>\n",
       "      <td>False</td>\n",
       "      <td>False</td>\n",
       "      <td>360</td>\n",
       "      <td>p158</td>\n",
       "      <td>domestic cow</td>\n",
       "      <td>2016-07-31 16:22:39</td>\n",
       "    </tr>\n",
       "    <tr>\n",
       "      <th>18538</th>\n",
       "      <td>d34676</td>\n",
       "      <td>datasetemammal.projectp158.deploymentd34676.se...</td>\n",
       "      <td>True</td>\n",
       "      <td>False</td>\n",
       "      <td>False</td>\n",
       "      <td>False</td>\n",
       "      <td>66</td>\n",
       "      <td>p158</td>\n",
       "      <td>domestic cow</td>\n",
       "      <td>2016-07-31 16:35:17</td>\n",
       "    </tr>\n",
       "    <tr>\n",
       "      <th>18549</th>\n",
       "      <td>d34676</td>\n",
       "      <td>datasetemammal.projectp158.deploymentd34676.se...</td>\n",
       "      <td>True</td>\n",
       "      <td>False</td>\n",
       "      <td>False</td>\n",
       "      <td>False</td>\n",
       "      <td>30</td>\n",
       "      <td>p158</td>\n",
       "      <td>domestic cow</td>\n",
       "      <td>2016-07-31 18:00:24</td>\n",
       "    </tr>\n",
       "    <tr>\n",
       "      <th>18571</th>\n",
       "      <td>d34676</td>\n",
       "      <td>datasetemammal.projectp158.deploymentd34676.se...</td>\n",
       "      <td>False</td>\n",
       "      <td>False</td>\n",
       "      <td>False</td>\n",
       "      <td>False</td>\n",
       "      <td>6</td>\n",
       "      <td>p158</td>\n",
       "      <td>unknown animal</td>\n",
       "      <td>2016-07-31 21:59:54</td>\n",
       "    </tr>\n",
       "    <tr>\n",
       "      <th>18582</th>\n",
       "      <td>d34676</td>\n",
       "      <td>datasetemammal.projectp158.deploymentd34676.se...</td>\n",
       "      <td>False</td>\n",
       "      <td>False</td>\n",
       "      <td>False</td>\n",
       "      <td>False</td>\n",
       "      <td>24</td>\n",
       "      <td>p158</td>\n",
       "      <td>unknown animal</td>\n",
       "      <td>2016-07-31 22:16:54</td>\n",
       "    </tr>\n",
       "  </tbody>\n",
       "</table>\n",
       "<p>7080 rows × 10 columns</p>\n",
       "</div>"
      ],
      "text/plain": [
       "      deployment_id                                        full_seq_id  \\\n",
       "1            d34795  datasetemammal.projectp158.deploymentd34795.se...   \n",
       "2            d34795  datasetemammal.projectp158.deploymentd34795.se...   \n",
       "3            d34795  datasetemammal.projectp158.deploymentd34795.se...   \n",
       "4            d34795  datasetemammal.projectp158.deploymentd34795.se...   \n",
       "7            d34795  datasetemammal.projectp158.deploymentd34795.se...   \n",
       "8            d34795  datasetemammal.projectp158.deploymentd34795.se...   \n",
       "9            d34795  datasetemammal.projectp158.deploymentd34795.se...   \n",
       "12           d34795  datasetemammal.projectp158.deploymentd34795.se...   \n",
       "13           d34795  datasetemammal.projectp158.deploymentd34795.se...   \n",
       "16           d34795  datasetemammal.projectp158.deploymentd34795.se...   \n",
       "17           d34795  datasetemammal.projectp158.deploymentd34795.se...   \n",
       "25           d19296  datasetemammal.projectp139.deploymentd19296.se...   \n",
       "26           d19296  datasetemammal.projectp139.deploymentd19296.se...   \n",
       "29           d19296  datasetemammal.projectp139.deploymentd19296.se...   \n",
       "30           d19296  datasetemammal.projectp139.deploymentd19296.se...   \n",
       "31           d19296  datasetemammal.projectp139.deploymentd19296.se...   \n",
       "32           d19296  datasetemammal.projectp139.deploymentd19296.se...   \n",
       "33           d19296  datasetemammal.projectp139.deploymentd19296.se...   \n",
       "34           d19296  datasetemammal.projectp139.deploymentd19296.se...   \n",
       "35           d19296  datasetemammal.projectp139.deploymentd19296.se...   \n",
       "38           d19296  datasetemammal.projectp139.deploymentd19296.se...   \n",
       "39           d19296  datasetemammal.projectp139.deploymentd19296.se...   \n",
       "40           d19296  datasetemammal.projectp139.deploymentd19296.se...   \n",
       "41           d19296  datasetemammal.projectp139.deploymentd19296.se...   \n",
       "42           d19296  datasetemammal.projectp139.deploymentd19296.se...   \n",
       "43           d19296  datasetemammal.projectp139.deploymentd19296.se...   \n",
       "44           d19296  datasetemammal.projectp139.deploymentd19296.se...   \n",
       "45           d19296  datasetemammal.projectp139.deploymentd19296.se...   \n",
       "49           d19296  datasetemammal.projectp139.deploymentd19296.se...   \n",
       "56           d19296  datasetemammal.projectp139.deploymentd19296.se...   \n",
       "...             ...                                                ...   \n",
       "18476        d21177  datasetemammal.projectp158.deploymentd21177.se...   \n",
       "18477        d21177  datasetemammal.projectp158.deploymentd21177.se...   \n",
       "18478        d21177  datasetemammal.projectp158.deploymentd21177.se...   \n",
       "18479        d21177  datasetemammal.projectp158.deploymentd21177.se...   \n",
       "18492        d34676  datasetemammal.projectp158.deploymentd34676.se...   \n",
       "18499        d34676  datasetemammal.projectp158.deploymentd34676.se...   \n",
       "18500        d34676  datasetemammal.projectp158.deploymentd34676.se...   \n",
       "18501        d34676  datasetemammal.projectp158.deploymentd34676.se...   \n",
       "18502        d34676  datasetemammal.projectp158.deploymentd34676.se...   \n",
       "18503        d34676  datasetemammal.projectp158.deploymentd34676.se...   \n",
       "18504        d34676  datasetemammal.projectp158.deploymentd34676.se...   \n",
       "18505        d34676  datasetemammal.projectp158.deploymentd34676.se...   \n",
       "18506        d34676  datasetemammal.projectp158.deploymentd34676.se...   \n",
       "18507        d34676  datasetemammal.projectp158.deploymentd34676.se...   \n",
       "18509        d34676  datasetemammal.projectp158.deploymentd34676.se...   \n",
       "18510        d34676  datasetemammal.projectp158.deploymentd34676.se...   \n",
       "18511        d34676  datasetemammal.projectp158.deploymentd34676.se...   \n",
       "18512        d34676  datasetemammal.projectp158.deploymentd34676.se...   \n",
       "18513        d34676  datasetemammal.projectp158.deploymentd34676.se...   \n",
       "18514        d34676  datasetemammal.projectp158.deploymentd34676.se...   \n",
       "18515        d34676  datasetemammal.projectp158.deploymentd34676.se...   \n",
       "18517        d34676  datasetemammal.projectp158.deploymentd34676.se...   \n",
       "18519        d34676  datasetemammal.projectp158.deploymentd34676.se...   \n",
       "18521        d34676  datasetemammal.projectp158.deploymentd34676.se...   \n",
       "18522        d34676  datasetemammal.projectp158.deploymentd34676.se...   \n",
       "18527        d34676  datasetemammal.projectp158.deploymentd34676.se...   \n",
       "18538        d34676  datasetemammal.projectp158.deploymentd34676.se...   \n",
       "18549        d34676  datasetemammal.projectp158.deploymentd34676.se...   \n",
       "18571        d34676  datasetemammal.projectp158.deploymentd34676.se...   \n",
       "18582        d34676  datasetemammal.projectp158.deploymentd34676.se...   \n",
       "\n",
       "       is_daytime  is_empty  is_human_only  is_multi_species  num_frames  \\\n",
       "1            True     False          False             False           6   \n",
       "2            True     False          False             False           3   \n",
       "3            True     False          False             False           3   \n",
       "4            True     False          False             False           6   \n",
       "7            True     False          False             False           6   \n",
       "8            True     False          False             False           9   \n",
       "9            True     False          False              True           3   \n",
       "12           True     False          False              True           3   \n",
       "13          False     False          False             False           3   \n",
       "16          False     False          False             False          18   \n",
       "17          False     False          False             False           6   \n",
       "25           True     False          False             False           5   \n",
       "26          False     False          False             False          35   \n",
       "29           True     False          False             False           5   \n",
       "30           True     False          False             False           5   \n",
       "31           True     False          False             False           5   \n",
       "32           True     False          False             False           5   \n",
       "33           True     False          False             False           5   \n",
       "34          False     False          False             False           5   \n",
       "35           True     False          False             False          20   \n",
       "38          False     False          False             False          70   \n",
       "39          False     False          False             False           5   \n",
       "40           True     False          False             False           5   \n",
       "41          False     False          False             False          15   \n",
       "42           True     False          False             False           5   \n",
       "43          False     False          False             False           5   \n",
       "44          False     False          False             False           5   \n",
       "45          False     False          False             False           5   \n",
       "49           True     False          False             False           5   \n",
       "56           True     False          False             False           5   \n",
       "...           ...       ...            ...               ...         ...   \n",
       "18476        True     False          False             False           6   \n",
       "18477       False     False          False             False           9   \n",
       "18478       False     False          False             False          69   \n",
       "18479       False     False          False             False           9   \n",
       "18492        True     False          False             False          15   \n",
       "18499       False     False          False             False           6   \n",
       "18500       False     False          False             False           6   \n",
       "18501       False     False          False             False           6   \n",
       "18502        True     False          False              True           3   \n",
       "18503        True     False          False             False           3   \n",
       "18504        True     False          False             False           3   \n",
       "18505       False     False          False             False           9   \n",
       "18506        True     False          False             False          15   \n",
       "18507       False     False          False             False          12   \n",
       "18509        True     False          False             False           3   \n",
       "18510        True     False          False             False          15   \n",
       "18511        True     False          False             False           3   \n",
       "18512        True     False          False             False           3   \n",
       "18513        True     False          False             False           6   \n",
       "18514       False     False          False             False           3   \n",
       "18515       False     False          False             False           3   \n",
       "18517       False     False          False             False           6   \n",
       "18519       False     False          False             False           6   \n",
       "18521        True     False          False             False           3   \n",
       "18522        True     False          False             False           3   \n",
       "18527        True     False          False             False         360   \n",
       "18538        True     False          False             False          66   \n",
       "18549        True     False          False             False          30   \n",
       "18571       False     False          False             False           6   \n",
       "18582       False     False          False             False          24   \n",
       "\n",
       "      project_id                 species          start_time  \n",
       "1           p158            domestic cat 2017-03-02 14:35:55  \n",
       "2           p158            domestic cat 2017-03-02 14:39:31  \n",
       "3           p158            domestic cat 2017-03-02 15:32:25  \n",
       "4           p158               mule deer 2017-03-03 16:43:46  \n",
       "7           p158            domestic cat 2017-03-16 17:51:32  \n",
       "8           p158      eastern cottontail 2017-03-16 18:46:40  \n",
       "9           p158      domestic dog;human 2017-03-18 15:35:54  \n",
       "12          p158      domestic dog;human 2017-03-19 16:51:52  \n",
       "13          p158          unknown animal 2017-03-26 00:22:58  \n",
       "16          p158               mule deer 2017-02-20 23:23:47  \n",
       "17          p158               mule deer 2017-02-20 23:28:13  \n",
       "25          p139        unknown squirrel 2015-07-29 13:33:44  \n",
       "26          p139     american black bear 2015-07-29 21:03:27  \n",
       "29          p139        unknown squirrel 2015-07-30 08:13:03  \n",
       "30          p139            unknown bird 2015-08-02 07:06:03  \n",
       "31          p139         american badger 2015-08-03 18:05:12  \n",
       "32          p139          unknown animal 2015-08-03 18:11:02  \n",
       "33          p139            unknown bird 2015-08-04 09:17:14  \n",
       "34          p139             canada lynx 2015-07-20 22:20:20  \n",
       "35          p139               mule deer 2015-08-11 07:05:37  \n",
       "38          p139               mule deer 2015-08-19 05:42:48  \n",
       "39          p139               mule deer 2015-08-19 05:47:58  \n",
       "40          p139        unknown chipmunk 2015-08-23 19:37:53  \n",
       "41          p139               mule deer 2015-08-28 20:33:30  \n",
       "42          p139            unknown bird 2015-09-03 12:31:29  \n",
       "43          p139    unknown small weasel 2015-09-03 22:52:25  \n",
       "44          p139    unknown small weasel 2015-09-05 20:57:45  \n",
       "45          p139             canada lynx 2015-07-20 22:25:41  \n",
       "49          p139             canada lynx 2015-09-28 07:45:30  \n",
       "56          p139        unknown squirrel 2015-07-22 12:45:06  \n",
       "...          ...                     ...                 ...  \n",
       "18476       p158                  bobcat 2016-02-23 18:25:22  \n",
       "18477       p158                  bobcat 2016-02-24 03:50:47  \n",
       "18478       p158               mule deer 2016-02-25 22:09:35  \n",
       "18479       p158               mule deer 2016-02-25 22:12:39  \n",
       "18492       p158            domestic cow 2016-08-01 14:54:59  \n",
       "18499       p158               mule deer 2016-09-01 00:33:47  \n",
       "18500       p158          unknown animal 2016-09-02 20:19:25  \n",
       "18501       p158               mule deer 2016-09-03 03:45:34  \n",
       "18502       p158  domestic cow;mule deer 2016-09-03 19:00:01  \n",
       "18503       p158            domestic cow 2016-08-01 14:59:34  \n",
       "18504       p158               mule deer 2016-09-03 19:46:30  \n",
       "18505       p158               mule deer 2016-09-03 20:30:00  \n",
       "18506       p158               mule deer 2016-09-04 06:09:32  \n",
       "18507       p158               mule deer 2016-09-05 05:29:37  \n",
       "18509       p158            domestic cow 2016-08-01 15:02:12  \n",
       "18510       p158            domestic cow 2016-08-01 15:05:51  \n",
       "18511       p158            domestic cow 2016-08-01 16:15:42  \n",
       "18512       p158            domestic cow 2016-08-02 19:29:35  \n",
       "18513       p158            domestic cow 2016-08-02 19:35:43  \n",
       "18514       p158          unknown animal 2016-08-02 21:12:46  \n",
       "18515       p158          unknown animal 2016-08-02 21:14:53  \n",
       "18517       p158            domestic cow 2016-08-02 21:18:17  \n",
       "18519       p158            domestic cow 2016-08-02 21:41:54  \n",
       "18521       p158            domestic cow 2016-08-03 15:23:50  \n",
       "18522       p158            domestic cow 2016-08-03 15:25:58  \n",
       "18527       p158            domestic cow 2016-07-31 16:22:39  \n",
       "18538       p158            domestic cow 2016-07-31 16:35:17  \n",
       "18549       p158            domestic cow 2016-07-31 18:00:24  \n",
       "18571       p158          unknown animal 2016-07-31 21:59:54  \n",
       "18582       p158          unknown animal 2016-07-31 22:16:54  \n",
       "\n",
       "[7080 rows x 10 columns]"
      ]
     },
     "execution_count": 75,
     "metadata": {},
     "output_type": "execute_result"
    }
   ],
   "source": [
    "df_seq_animals"
   ]
  },
  {
   "cell_type": "markdown",
   "metadata": {},
   "source": [
    "#### What is the distribution of number of frames in sequences, in the sequences excluding empty, human-only and dog-walking?"
   ]
  },
  {
   "cell_type": "code",
   "execution_count": 36,
   "metadata": {},
   "outputs": [
    {
     "data": {
      "text/plain": [
       "6.897967823878069"
      ]
     },
     "execution_count": 36,
     "metadata": {},
     "output_type": "execute_result"
    },
    {
     "data": {
      "text/plain": [
       "3.0"
      ]
     },
     "execution_count": 36,
     "metadata": {},
     "output_type": "execute_result"
    },
    {
     "data": {
      "text/plain": [
       "360"
      ]
     },
     "execution_count": 36,
     "metadata": {},
     "output_type": "execute_result"
    },
    {
     "data": {
      "text/plain": [
       "1"
      ]
     },
     "execution_count": 36,
     "metadata": {},
     "output_type": "execute_result"
    }
   ],
   "source": [
    "num_frames = df_seq_no_dog_walking.num_frames\n",
    "statistics.mean(num_frames)\n",
    "statistics.median(num_frames)\n",
    "max(num_frames)\n",
    "min(num_frames)"
   ]
  },
  {
   "cell_type": "code",
   "execution_count": 33,
   "metadata": {},
   "outputs": [
    {
     "data": {
      "image/png": "[encoded data removed]",
      "text/plain": [
       "<Figure size 960x360 with 1 Axes>"
      ]
     },
     "metadata": {},
     "output_type": "display_data"
    }
   ],
   "source": [
    "plot_histogram(num_frames)"
   ]
  },
  {
   "cell_type": "code",
   "execution_count": 38,
   "metadata": {},
   "outputs": [
    {
     "data": {
      "text/plain": [
       "0.05249788314987299"
      ]
     },
     "execution_count": 38,
     "metadata": {},
     "output_type": "execute_result"
    }
   ],
   "source": [
    "# how many of these frames are more than 20 long? - only about 5%\n",
    "sum(num > 20 for num in num_frames) / len(num_frames)"
   ]
  },
  {
   "cell_type": "code",
   "execution_count": null,
   "metadata": {},
   "outputs": [],
   "source": []
  },
  {
   "cell_type": "markdown",
   "metadata": {},
   "source": [
    "## Select the sequences to be annotated\n",
    "#### Start from no human-only and non-empty sequences. Exclude sequences longer than 20 frames, and exclude sequences with multiple species"
   ]
  },
  {
   "cell_type": "code",
   "execution_count": 92,
   "metadata": {},
   "outputs": [],
   "source": [
    "df_seq_short = df_seq_animals[(df_seq_animals.num_frames <= 20)]"
   ]
  },
  {
   "cell_type": "code",
   "execution_count": 93,
   "metadata": {},
   "outputs": [
    {
     "data": {
      "text/plain": [
       "48204"
      ]
     },
     "execution_count": 93,
     "metadata": {},
     "output_type": "execute_result"
    },
    {
     "data": {
      "text/plain": [
       "34780"
      ]
     },
     "execution_count": 93,
     "metadata": {},
     "output_type": "execute_result"
    }
   ],
   "source": [
    "sum(df_seq_animals.num_frames)  # number of images\n",
    "sum(df_seq_short.num_frames)"
   ]
  },
  {
   "cell_type": "markdown",
   "metadata": {},
   "source": [
    "#### Separate out dog-walking, horse-riding, coyote/mule deer (two most common non-domestic species) sequences"
   ]
  },
  {
   "cell_type": "code",
   "execution_count": 94,
   "metadata": {},
   "outputs": [
    {
     "data": {
      "text/plain": [
       "2287"
      ]
     },
     "execution_count": 94,
     "metadata": {},
     "output_type": "execute_result"
    }
   ],
   "source": [
    "df_seq_dog_walking = df_seq_short[df_seq_short.species == 'domestic dog;human']\n",
    "len(df_seq_dog_walking)"
   ]
  },
  {
   "cell_type": "code",
   "execution_count": 95,
   "metadata": {},
   "outputs": [
    {
     "data": {
      "text/plain": [
       "202"
      ]
     },
     "execution_count": 95,
     "metadata": {},
     "output_type": "execute_result"
    }
   ],
   "source": [
    "df_seq_horse_riding = df_seq_short[df_seq_short.species == 'domestic horse;human']\n",
    "len(df_seq_horse_riding)"
   ]
  },
  {
   "cell_type": "code",
   "execution_count": 97,
   "metadata": {},
   "outputs": [
    {
     "data": {
      "text/plain": [
       "1713"
      ]
     },
     "execution_count": 97,
     "metadata": {},
     "output_type": "execute_result"
    },
    {
     "data": {
      "text/html": [
       "<div>\n",
       "<style scoped>\n",
       "    .dataframe tbody tr th:only-of-type {\n",
       "        vertical-align: middle;\n",
       "    }\n",
       "\n",
       "    .dataframe tbody tr th {\n",
       "        vertical-align: top;\n",
       "    }\n",
       "\n",
       "    .dataframe thead th {\n",
       "        text-align: right;\n",
       "    }\n",
       "</style>\n",
       "<table border=\"1\" class=\"dataframe\">\n",
       "  <thead>\n",
       "    <tr style=\"text-align: right;\">\n",
       "      <th></th>\n",
       "      <th>deployment_id</th>\n",
       "      <th>full_seq_id</th>\n",
       "      <th>is_daytime</th>\n",
       "      <th>is_empty</th>\n",
       "      <th>is_human_only</th>\n",
       "      <th>is_multi_species</th>\n",
       "      <th>num_frames</th>\n",
       "      <th>project_id</th>\n",
       "      <th>species</th>\n",
       "      <th>start_time</th>\n",
       "    </tr>\n",
       "  </thead>\n",
       "  <tbody>\n",
       "    <tr>\n",
       "      <th>8547</th>\n",
       "      <td>d34720</td>\n",
       "      <td>datasetemammal.projectp158.deploymentd34720.se...</td>\n",
       "      <td>True</td>\n",
       "      <td>False</td>\n",
       "      <td>False</td>\n",
       "      <td>False</td>\n",
       "      <td>9</td>\n",
       "      <td>p158</td>\n",
       "      <td>mule deer</td>\n",
       "      <td>2016-11-21 17:36:43</td>\n",
       "    </tr>\n",
       "    <tr>\n",
       "      <th>7736</th>\n",
       "      <td>d34776</td>\n",
       "      <td>datasetemammal.projectp158.deploymentd34776.se...</td>\n",
       "      <td>False</td>\n",
       "      <td>False</td>\n",
       "      <td>False</td>\n",
       "      <td>False</td>\n",
       "      <td>3</td>\n",
       "      <td>p158</td>\n",
       "      <td>coyote</td>\n",
       "      <td>2017-01-03 22:35:32</td>\n",
       "    </tr>\n",
       "    <tr>\n",
       "      <th>16910</th>\n",
       "      <td>d34665</td>\n",
       "      <td>datasetemammal.projectp158.deploymentd34665.se...</td>\n",
       "      <td>False</td>\n",
       "      <td>False</td>\n",
       "      <td>False</td>\n",
       "      <td>False</td>\n",
       "      <td>6</td>\n",
       "      <td>p158</td>\n",
       "      <td>coyote</td>\n",
       "      <td>2017-06-15 02:19:22</td>\n",
       "    </tr>\n",
       "  </tbody>\n",
       "</table>\n",
       "</div>"
      ],
      "text/plain": [
       "      deployment_id                                        full_seq_id  \\\n",
       "8547         d34720  datasetemammal.projectp158.deploymentd34720.se...   \n",
       "7736         d34776  datasetemammal.projectp158.deploymentd34776.se...   \n",
       "16910        d34665  datasetemammal.projectp158.deploymentd34665.se...   \n",
       "\n",
       "       is_daytime  is_empty  is_human_only  is_multi_species  num_frames  \\\n",
       "8547         True     False          False             False           9   \n",
       "7736        False     False          False             False           3   \n",
       "16910       False     False          False             False           6   \n",
       "\n",
       "      project_id    species          start_time  \n",
       "8547        p158  mule deer 2016-11-21 17:36:43  \n",
       "7736        p158     coyote 2017-01-03 22:35:32  \n",
       "16910       p158     coyote 2017-06-15 02:19:22  "
      ]
     },
     "execution_count": 97,
     "metadata": {},
     "output_type": "execute_result"
    }
   ],
   "source": [
    "df_seq_coyote_deer = df_seq_short[(df_seq_short.species == 'coyote') | (df_seq_short.species == 'mule deer')]\n",
    "len(df_seq_coyote_deer)\n",
    "df_seq_coyote_deer.sample(n=3)"
   ]
  },
  {
   "cell_type": "markdown",
   "metadata": {},
   "source": [
    "#### Get ride of all multi-species (not that many after excluding dog walking and horse riding ones) sequences"
   ]
  },
  {
   "cell_type": "code",
   "execution_count": 99,
   "metadata": {},
   "outputs": [],
   "source": [
    "def_single_species = df_seq_short[df_seq_short.is_multi_species == False]"
   ]
  },
  {
   "cell_type": "code",
   "execution_count": 102,
   "metadata": {},
   "outputs": [
    {
     "data": {
      "text/plain": [
       "2492"
      ]
     },
     "execution_count": 102,
     "metadata": {},
     "output_type": "execute_result"
    },
    {
     "data": {
      "text/html": [
       "<div>\n",
       "<style scoped>\n",
       "    .dataframe tbody tr th:only-of-type {\n",
       "        vertical-align: middle;\n",
       "    }\n",
       "\n",
       "    .dataframe tbody tr th {\n",
       "        vertical-align: top;\n",
       "    }\n",
       "\n",
       "    .dataframe thead th {\n",
       "        text-align: right;\n",
       "    }\n",
       "</style>\n",
       "<table border=\"1\" class=\"dataframe\">\n",
       "  <thead>\n",
       "    <tr style=\"text-align: right;\">\n",
       "      <th></th>\n",
       "      <th>deployment_id</th>\n",
       "      <th>full_seq_id</th>\n",
       "      <th>is_daytime</th>\n",
       "      <th>is_empty</th>\n",
       "      <th>is_human_only</th>\n",
       "      <th>is_multi_species</th>\n",
       "      <th>num_frames</th>\n",
       "      <th>project_id</th>\n",
       "      <th>species</th>\n",
       "      <th>start_time</th>\n",
       "    </tr>\n",
       "  </thead>\n",
       "  <tbody>\n",
       "    <tr>\n",
       "      <th>6367</th>\n",
       "      <td>d34667</td>\n",
       "      <td>datasetemammal.projectp158.deploymentd34667.se...</td>\n",
       "      <td>False</td>\n",
       "      <td>False</td>\n",
       "      <td>False</td>\n",
       "      <td>False</td>\n",
       "      <td>6</td>\n",
       "      <td>p158</td>\n",
       "      <td>bobcat</td>\n",
       "      <td>2016-08-03 22:15:56</td>\n",
       "    </tr>\n",
       "    <tr>\n",
       "      <th>9554</th>\n",
       "      <td>d34646</td>\n",
       "      <td>datasetemammal.projectp158.deploymentd34646.se...</td>\n",
       "      <td>True</td>\n",
       "      <td>False</td>\n",
       "      <td>False</td>\n",
       "      <td>False</td>\n",
       "      <td>3</td>\n",
       "      <td>p158</td>\n",
       "      <td>unknown animal</td>\n",
       "      <td>2016-07-21 17:29:08</td>\n",
       "    </tr>\n",
       "    <tr>\n",
       "      <th>15795</th>\n",
       "      <td>d23172</td>\n",
       "      <td>datasetemammal.projectp139.deploymentd23172.se...</td>\n",
       "      <td>True</td>\n",
       "      <td>False</td>\n",
       "      <td>False</td>\n",
       "      <td>False</td>\n",
       "      <td>5</td>\n",
       "      <td>p139</td>\n",
       "      <td>common raven</td>\n",
       "      <td>2016-01-22 11:46:22</td>\n",
       "    </tr>\n",
       "    <tr>\n",
       "      <th>18176</th>\n",
       "      <td>d34794</td>\n",
       "      <td>datasetemammal.projectp158.deploymentd34794.se...</td>\n",
       "      <td>False</td>\n",
       "      <td>False</td>\n",
       "      <td>False</td>\n",
       "      <td>False</td>\n",
       "      <td>3</td>\n",
       "      <td>p158</td>\n",
       "      <td>northern raccoon</td>\n",
       "      <td>2017-02-10 22:44:09</td>\n",
       "    </tr>\n",
       "    <tr>\n",
       "      <th>5640</th>\n",
       "      <td>d34740</td>\n",
       "      <td>datasetemammal.projectp158.deploymentd34740.se...</td>\n",
       "      <td>True</td>\n",
       "      <td>False</td>\n",
       "      <td>False</td>\n",
       "      <td>False</td>\n",
       "      <td>1</td>\n",
       "      <td>p158</td>\n",
       "      <td>domestic dog</td>\n",
       "      <td>2016-10-28 09:11:15</td>\n",
       "    </tr>\n",
       "  </tbody>\n",
       "</table>\n",
       "</div>"
      ],
      "text/plain": [
       "      deployment_id                                        full_seq_id  \\\n",
       "6367         d34667  datasetemammal.projectp158.deploymentd34667.se...   \n",
       "9554         d34646  datasetemammal.projectp158.deploymentd34646.se...   \n",
       "15795        d23172  datasetemammal.projectp139.deploymentd23172.se...   \n",
       "18176        d34794  datasetemammal.projectp158.deploymentd34794.se...   \n",
       "5640         d34740  datasetemammal.projectp158.deploymentd34740.se...   \n",
       "\n",
       "       is_daytime  is_empty  is_human_only  is_multi_species  num_frames  \\\n",
       "6367        False     False          False             False           6   \n",
       "9554         True     False          False             False           3   \n",
       "15795        True     False          False             False           5   \n",
       "18176       False     False          False             False           3   \n",
       "5640         True     False          False             False           1   \n",
       "\n",
       "      project_id           species          start_time  \n",
       "6367        p158            bobcat 2016-08-03 22:15:56  \n",
       "9554        p158    unknown animal 2016-07-21 17:29:08  \n",
       "15795       p139      common raven 2016-01-22 11:46:22  \n",
       "18176       p158  northern raccoon 2017-02-10 22:44:09  \n",
       "5640        p158      domestic dog 2016-10-28 09:11:15  "
      ]
     },
     "execution_count": 102,
     "metadata": {},
     "output_type": "execute_result"
    }
   ],
   "source": [
    "df_seq_rare = def_single_species[(def_single_species.species != 'coyote') & (def_single_species.species != 'mule deer')]\n",
    "len(df_seq_rare)\n",
    "df_seq_rare.sample(n=5)"
   ]
  },
  {
   "cell_type": "code",
   "execution_count": 119,
   "metadata": {},
   "outputs": [
    {
     "data": {
      "text/plain": [
       "800"
      ]
     },
     "execution_count": 119,
     "metadata": {},
     "output_type": "execute_result"
    },
    {
     "data": {
      "text/html": [
       "<div>\n",
       "<style scoped>\n",
       "    .dataframe tbody tr th:only-of-type {\n",
       "        vertical-align: middle;\n",
       "    }\n",
       "\n",
       "    .dataframe tbody tr th {\n",
       "        vertical-align: top;\n",
       "    }\n",
       "\n",
       "    .dataframe thead th {\n",
       "        text-align: right;\n",
       "    }\n",
       "</style>\n",
       "<table border=\"1\" class=\"dataframe\">\n",
       "  <thead>\n",
       "    <tr style=\"text-align: right;\">\n",
       "      <th></th>\n",
       "      <th>deployment_id</th>\n",
       "      <th>full_seq_id</th>\n",
       "      <th>is_daytime</th>\n",
       "      <th>is_empty</th>\n",
       "      <th>is_human_only</th>\n",
       "      <th>is_multi_species</th>\n",
       "      <th>num_frames</th>\n",
       "      <th>project_id</th>\n",
       "      <th>species</th>\n",
       "      <th>start_time</th>\n",
       "    </tr>\n",
       "  </thead>\n",
       "  <tbody>\n",
       "    <tr>\n",
       "      <th>18373</th>\n",
       "      <td>d21177</td>\n",
       "      <td>datasetemammal.projectp158.deploymentd21177.se...</td>\n",
       "      <td>False</td>\n",
       "      <td>False</td>\n",
       "      <td>False</td>\n",
       "      <td>False</td>\n",
       "      <td>6</td>\n",
       "      <td>p158</td>\n",
       "      <td>mule deer</td>\n",
       "      <td>2016-04-11 05:32:32</td>\n",
       "    </tr>\n",
       "    <tr>\n",
       "      <th>4855</th>\n",
       "      <td>d34640</td>\n",
       "      <td>datasetemammal.projectp158.deploymentd34640.se...</td>\n",
       "      <td>False</td>\n",
       "      <td>False</td>\n",
       "      <td>False</td>\n",
       "      <td>False</td>\n",
       "      <td>5</td>\n",
       "      <td>p158</td>\n",
       "      <td>coyote</td>\n",
       "      <td>2016-07-19 23:17:33</td>\n",
       "    </tr>\n",
       "    <tr>\n",
       "      <th>11834</th>\n",
       "      <td>d34709</td>\n",
       "      <td>datasetemammal.projectp158.deploymentd34709.se...</td>\n",
       "      <td>False</td>\n",
       "      <td>False</td>\n",
       "      <td>False</td>\n",
       "      <td>False</td>\n",
       "      <td>12</td>\n",
       "      <td>p158</td>\n",
       "      <td>mule deer</td>\n",
       "      <td>2016-10-04 00:18:49</td>\n",
       "    </tr>\n",
       "  </tbody>\n",
       "</table>\n",
       "</div>"
      ],
      "text/plain": [
       "      deployment_id                                        full_seq_id  \\\n",
       "18373        d21177  datasetemammal.projectp158.deploymentd21177.se...   \n",
       "4855         d34640  datasetemammal.projectp158.deploymentd34640.se...   \n",
       "11834        d34709  datasetemammal.projectp158.deploymentd34709.se...   \n",
       "\n",
       "       is_daytime  is_empty  is_human_only  is_multi_species  num_frames  \\\n",
       "18373       False     False          False             False           6   \n",
       "4855        False     False          False             False           5   \n",
       "11834       False     False          False             False          12   \n",
       "\n",
       "      project_id    species          start_time  \n",
       "18373       p158  mule deer 2016-04-11 05:32:32  \n",
       "4855        p158     coyote 2016-07-19 23:17:33  \n",
       "11834       p158  mule deer 2016-10-04 00:18:49  "
      ]
     },
     "execution_count": 119,
     "metadata": {},
     "output_type": "execute_result"
    }
   ],
   "source": [
    "df_seq_coyote_deer_sample = df_seq_coyote_deer.sample(n=800)\n",
    "len(df_seq_coyote_deer_sample)\n",
    "df_seq_coyote_deer_sample.sample(n=3)"
   ]
  },
  {
   "cell_type": "code",
   "execution_count": 120,
   "metadata": {},
   "outputs": [
    {
     "name": "stdout",
     "output_type": "stream",
     "text": [
      "Total number of sequences: 3292\n",
      "Total number of images: 14867\n"
     ]
    },
    {
     "data": {
      "text/html": [
       "<div>\n",
       "<style scoped>\n",
       "    .dataframe tbody tr th:only-of-type {\n",
       "        vertical-align: middle;\n",
       "    }\n",
       "\n",
       "    .dataframe tbody tr th {\n",
       "        vertical-align: top;\n",
       "    }\n",
       "\n",
       "    .dataframe thead th {\n",
       "        text-align: right;\n",
       "    }\n",
       "</style>\n",
       "<table border=\"1\" class=\"dataframe\">\n",
       "  <thead>\n",
       "    <tr style=\"text-align: right;\">\n",
       "      <th></th>\n",
       "      <th>deployment_id</th>\n",
       "      <th>full_seq_id</th>\n",
       "      <th>is_daytime</th>\n",
       "      <th>is_empty</th>\n",
       "      <th>is_human_only</th>\n",
       "      <th>is_multi_species</th>\n",
       "      <th>num_frames</th>\n",
       "      <th>project_id</th>\n",
       "      <th>species</th>\n",
       "      <th>start_time</th>\n",
       "    </tr>\n",
       "  </thead>\n",
       "  <tbody>\n",
       "    <tr>\n",
       "      <th>18206</th>\n",
       "      <td>d34794</td>\n",
       "      <td>datasetemammal.projectp158.deploymentd34794.se...</td>\n",
       "      <td>True</td>\n",
       "      <td>False</td>\n",
       "      <td>False</td>\n",
       "      <td>False</td>\n",
       "      <td>3</td>\n",
       "      <td>p158</td>\n",
       "      <td>mule deer</td>\n",
       "      <td>2017-02-25 09:10:28</td>\n",
       "    </tr>\n",
       "    <tr>\n",
       "      <th>1433</th>\n",
       "      <td>d34757</td>\n",
       "      <td>datasetemammal.projectp158.deploymentd34757.se...</td>\n",
       "      <td>False</td>\n",
       "      <td>False</td>\n",
       "      <td>False</td>\n",
       "      <td>False</td>\n",
       "      <td>4</td>\n",
       "      <td>p158</td>\n",
       "      <td>bobcat</td>\n",
       "      <td>2016-12-05 02:52:58</td>\n",
       "    </tr>\n",
       "    <tr>\n",
       "      <th>13643</th>\n",
       "      <td>d34779</td>\n",
       "      <td>datasetemammal.projectp158.deploymentd34779.se...</td>\n",
       "      <td>True</td>\n",
       "      <td>False</td>\n",
       "      <td>False</td>\n",
       "      <td>False</td>\n",
       "      <td>11</td>\n",
       "      <td>p158</td>\n",
       "      <td>coyote</td>\n",
       "      <td>2017-01-05 15:35:48</td>\n",
       "    </tr>\n",
       "  </tbody>\n",
       "</table>\n",
       "</div>"
      ],
      "text/plain": [
       "      deployment_id                                        full_seq_id  \\\n",
       "18206        d34794  datasetemammal.projectp158.deploymentd34794.se...   \n",
       "1433         d34757  datasetemammal.projectp158.deploymentd34757.se...   \n",
       "13643        d34779  datasetemammal.projectp158.deploymentd34779.se...   \n",
       "\n",
       "       is_daytime  is_empty  is_human_only  is_multi_species  num_frames  \\\n",
       "18206        True     False          False             False           3   \n",
       "1433        False     False          False             False           4   \n",
       "13643        True     False          False             False          11   \n",
       "\n",
       "      project_id    species          start_time  \n",
       "18206       p158  mule deer 2017-02-25 09:10:28  \n",
       "1433        p158     bobcat 2016-12-05 02:52:58  \n",
       "13643       p158     coyote 2017-01-05 15:35:48  "
      ]
     },
     "execution_count": 120,
     "metadata": {},
     "output_type": "execute_result"
    }
   ],
   "source": [
    "df_seq_good = pd.concat([df_seq_rare, df_seq_coyote_deer_sample])\n",
    "print('Total number of sequences: {}'.format(len(df_seq_good)))\n",
    "print('Total number of images: {}'.format(sum(df_seq_good.num_frames)))\n",
    "df_seq_good.sample(n=3)"
   ]
  },
  {
   "cell_type": "code",
   "execution_count": 121,
   "metadata": {},
   "outputs": [],
   "source": [
    "final_species = defaultdict(int)\n",
    "for sp in df_seq_good.species:\n",
    "    final_species[sp] += 1"
   ]
  },
  {
   "cell_type": "code",
   "execution_count": 122,
   "metadata": {},
   "outputs": [
    {
     "data": {
      "image/png": "[encoded data removed]",
      "text/plain": [
       "<Figure size 960x360 with 1 Axes>"
      ]
     },
     "metadata": {},
     "output_type": "display_data"
    }
   ],
   "source": [
    "plot_distribution(final_species, title='Species in the resampled dataset', top=30)"
   ]
  },
  {
   "cell_type": "markdown",
   "metadata": {},
   "source": [
    "#### Save a record of the sequences selected for relabeling \n",
    "Note that since the coyote and mule deer entries are sampled randomly, running this script again will NOT generate the same sequences"
   ]
  },
  {
   "cell_type": "code",
   "execution_count": 129,
   "metadata": {},
   "outputs": [],
   "source": [
    "df_seq_good.to_csv('/home/yasiyu/yasiyu_temp/0RobertLong_sequences_20180907.csv', index=False)"
   ]
  },
  {
   "cell_type": "code",
   "execution_count": 128,
   "metadata": {},
   "outputs": [],
   "source": [
    "# need to load df_seq_good from csv if you need to find the images in these sequences again."
   ]
  },
  {
   "cell_type": "markdown",
   "metadata": {},
   "source": [
    "#### Save a record of the images in the selected sequences"
   ]
  },
  {
   "cell_type": "code",
   "execution_count": 154,
   "metadata": {},
   "outputs": [
    {
     "name": "stderr",
     "output_type": "stream",
     "text": [
      "100%|██████████| 3292/3292 [00:22<00:00, 149.41it/s]\n"
     ]
    }
   ],
   "source": [
    "img_selected_paths = []\n",
    "list_df_images_in_seq = []\n",
    "for full_seq_id in tqdm(df_seq_good.full_seq_id):\n",
    "    images_in_seq = df_img[df_img.full_seq_id == full_seq_id]\n",
    "    \n",
    "    pairs = zip(list(images_in_seq.full_img_path), list(images_in_seq.full_img_id))\n",
    "    img_selected_paths.extend(pairs)\n",
    "    \n",
    "    list_df_images_in_seq.append(images_in_seq)"
   ]
  },
  {
   "cell_type": "code",
   "execution_count": 155,
   "metadata": {},
   "outputs": [
    {
     "data": {
      "text/plain": [
       "14867"
      ]
     },
     "execution_count": 155,
     "metadata": {},
     "output_type": "execute_result"
    }
   ],
   "source": [
    "len(img_selected_paths)  # should be 14867"
   ]
  },
  {
   "cell_type": "code",
   "execution_count": 153,
   "metadata": {},
   "outputs": [
    {
     "data": {
      "text/plain": [
       "14867"
      ]
     },
     "execution_count": 153,
     "metadata": {},
     "output_type": "execute_result"
    },
    {
     "data": {
      "text/html": [
       "<div>\n",
       "<style scoped>\n",
       "    .dataframe tbody tr th:only-of-type {\n",
       "        vertical-align: middle;\n",
       "    }\n",
       "\n",
       "    .dataframe tbody tr th {\n",
       "        vertical-align: top;\n",
       "    }\n",
       "\n",
       "    .dataframe thead th {\n",
       "        text-align: right;\n",
       "    }\n",
       "</style>\n",
       "<table border=\"1\" class=\"dataframe\">\n",
       "  <thead>\n",
       "    <tr style=\"text-align: right;\">\n",
       "      <th></th>\n",
       "      <th>deployment_id</th>\n",
       "      <th>full_img_id</th>\n",
       "      <th>full_img_path</th>\n",
       "      <th>full_seq_id</th>\n",
       "      <th>img_id</th>\n",
       "      <th>project_id</th>\n",
       "      <th>project_name</th>\n",
       "      <th>site_name</th>\n",
       "      <th>species</th>\n",
       "    </tr>\n",
       "  </thead>\n",
       "  <tbody>\n",
       "    <tr>\n",
       "      <th>17346</th>\n",
       "      <td>d34787</td>\n",
       "      <td>datasetemammal.projectp158.deploymentd34787.se...</td>\n",
       "      <td>/datadrive/emammal/p158d34787/d34787s277i2.JPG</td>\n",
       "      <td>datasetemammal.projectp158.deploymentd34787.se...</td>\n",
       "      <td>d34787s277i2</td>\n",
       "      <td>p158</td>\n",
       "      <td>Washington Urban-Wildland Carnivore Project</td>\n",
       "      <td>2786-5</td>\n",
       "      <td>unknown animal</td>\n",
       "    </tr>\n",
       "    <tr>\n",
       "      <th>31841</th>\n",
       "      <td>d34667</td>\n",
       "      <td>datasetemammal.projectp158.deploymentd34667.se...</td>\n",
       "      <td>/datadrive/emammal/p158d34667/d34667s74i5.JPG</td>\n",
       "      <td>datasetemammal.projectp158.deploymentd34667.se...</td>\n",
       "      <td>d34667s74i5</td>\n",
       "      <td>p158</td>\n",
       "      <td>Washington Urban-Wildland Carnivore Project</td>\n",
       "      <td>7650-1</td>\n",
       "      <td>bobcat</td>\n",
       "    </tr>\n",
       "    <tr>\n",
       "      <th>2561</th>\n",
       "      <td>d34701</td>\n",
       "      <td>datasetemammal.projectp158.deploymentd34701.se...</td>\n",
       "      <td>/datadrive/emammal/p158d34701/d34701s110i6.JPG</td>\n",
       "      <td>datasetemammal.projectp158.deploymentd34701.se...</td>\n",
       "      <td>d34701s110i6</td>\n",
       "      <td>p158</td>\n",
       "      <td>Washington Urban-Wildland Carnivore Project</td>\n",
       "      <td>4851-2</td>\n",
       "      <td>eastern gray squirrel</td>\n",
       "    </tr>\n",
       "  </tbody>\n",
       "</table>\n",
       "</div>"
      ],
      "text/plain": [
       "      deployment_id                                        full_img_id  \\\n",
       "17346        d34787  datasetemammal.projectp158.deploymentd34787.se...   \n",
       "31841        d34667  datasetemammal.projectp158.deploymentd34667.se...   \n",
       "2561         d34701  datasetemammal.projectp158.deploymentd34701.se...   \n",
       "\n",
       "                                        full_img_path  \\\n",
       "17346  /datadrive/emammal/p158d34787/d34787s277i2.JPG   \n",
       "31841   /datadrive/emammal/p158d34667/d34667s74i5.JPG   \n",
       "2561   /datadrive/emammal/p158d34701/d34701s110i6.JPG   \n",
       "\n",
       "                                             full_seq_id        img_id  \\\n",
       "17346  datasetemammal.projectp158.deploymentd34787.se...  d34787s277i2   \n",
       "31841  datasetemammal.projectp158.deploymentd34667.se...   d34667s74i5   \n",
       "2561   datasetemammal.projectp158.deploymentd34701.se...  d34701s110i6   \n",
       "\n",
       "      project_id                                 project_name site_name  \\\n",
       "17346       p158  Washington Urban-Wildland Carnivore Project    2786-5   \n",
       "31841       p158  Washington Urban-Wildland Carnivore Project    7650-1   \n",
       "2561        p158  Washington Urban-Wildland Carnivore Project    4851-2   \n",
       "\n",
       "                     species  \n",
       "17346         unknown animal  \n",
       "31841                 bobcat  \n",
       "2561   eastern gray squirrel  "
      ]
     },
     "execution_count": 153,
     "metadata": {},
     "output_type": "execute_result"
    }
   ],
   "source": [
    "df_img_good = pd.concat(list_df_images_in_seq)\n",
    "len(df_img_good)\n",
    "df_img_good.sample(n=3)"
   ]
  },
  {
   "cell_type": "code",
   "execution_count": 145,
   "metadata": {},
   "outputs": [],
   "source": [
    "df_img_good.to_csv('/home/yasiyu/yasiyu_temp/0RobertLong_images_20180907.csv', index=False)"
   ]
  },
  {
   "cell_type": "code",
   "execution_count": null,
   "metadata": {},
   "outputs": [],
   "source": []
  },
  {
   "cell_type": "code",
   "execution_count": 148,
   "metadata": {},
   "outputs": [
    {
     "data": {
      "text/plain": [
       "121"
      ]
     },
     "execution_count": 148,
     "metadata": {},
     "output_type": "execute_result"
    }
   ],
   "source": [
    "len(df_img_good.deployment_id.unique())  # number of deployments selected, out of a total of 126, so pretty good representation"
   ]
  },
  {
   "cell_type": "markdown",
   "metadata": {},
   "source": [
    "#### Copy out the images into a folder\n",
    "\n",
    "Need to rename the images to the full_img_id"
   ]
  },
  {
   "cell_type": "code",
   "execution_count": 156,
   "metadata": {},
   "outputs": [
    {
     "data": {
      "text/plain": [
       "('/datadrive/emammal/p158d34770/d34770s49i3.JPG',\n",
       " 'datasetemammal.projectp158.deploymentd34770.seqd34770s49.frame0003.imgd34770s49i3')"
      ]
     },
     "execution_count": 156,
     "metadata": {},
     "output_type": "execute_result"
    }
   ],
   "source": [
    "img_selected_paths[14000]"
   ]
  },
  {
   "cell_type": "code",
   "execution_count": 157,
   "metadata": {},
   "outputs": [
    {
     "name": "stderr",
     "output_type": "stream",
     "text": [
      "100%|██████████| 14867/14867 [00:28<00:00, 512.75it/s]\n"
     ]
    }
   ],
   "source": [
    "dest_folder = '/home/yasiyu/yasiyu_temp/eMammal_20180907'\n",
    "for from_path, full_img_id in tqdm(img_selected_paths):\n",
    "    dest_path = os.path.join(dest_folder, '{}.jpg'.format(full_img_id))\n",
    "    res = shutil.copyfile(from_path, dest_path)"
   ]
  },
  {
   "cell_type": "code",
   "execution_count": null,
   "metadata": {},
   "outputs": [],
   "source": [
    "# zip the folder"
   ]
  },
  {
   "cell_type": "code",
   "execution_count": 160,
   "metadata": {},
   "outputs": [
    {
     "data": {
      "text/plain": [
       "<azure.storage.blob.models.ResourceProperties at 0x7f2931d6c080>"
      ]
     },
     "execution_count": 160,
     "metadata": {},
     "output_type": "execute_result"
    }
   ],
   "source": [
    "# upload to blob storage - take a while\n",
    "key = os.environ[\"AZ_STORAGE_KEY\"]\n",
    "blob_service = BlockBlobService(account_name='wildlifeblobssc', account_key=key) \n",
    "blob_service.create_blob_from_path('yasiyutemp', 'eMammal_20180907.zip', '/home/yasiyu/yasiyu_temp/eMammal_20180907.zip')"
   ]
  },
  {
   "cell_type": "markdown",
   "metadata": {},
   "source": [
    "### Number of daytime/nighttime images"
   ]
  },
  {
   "cell_type": "code",
   "execution_count": 126,
   "metadata": {},
   "outputs": [
    {
     "data": {
      "text/plain": [
       "0.5158404520078025"
      ]
     },
     "execution_count": 126,
     "metadata": {},
     "output_type": "execute_result"
    }
   ],
   "source": [
    "num_images_night = sum(df_seq_good[df_seq_good.is_daytime == False].num_frames) / sum(df_seq_good.num_frames)\n",
    "num_images_night"
   ]
  },
  {
   "cell_type": "markdown",
   "metadata": {},
   "source": [
    "But if we take into account of all images including people walking dogs, there are now fewer nighttime pictures which makes sense since animals only come out after dark on trails / in general."
   ]
  },
  {
   "cell_type": "code",
   "execution_count": 124,
   "metadata": {},
   "outputs": [
    {
     "data": {
      "text/plain": [
       "0.21292366427715614"
      ]
     },
     "execution_count": 124,
     "metadata": {},
     "output_type": "execute_result"
    }
   ],
   "source": [
    "num_images_night_tot = sum(df_seq[df_seq.is_daytime == False].num_frames) / sum(df_seq.num_frames)\n",
    "num_images_night_tot"
   ]
  },
  {
   "cell_type": "code",
   "execution_count": null,
   "metadata": {},
   "outputs": [],
   "source": []
  }
 ],
 "metadata": {
  "kernelspec": {
   "display_name": "Python [conda env:py35]",
   "language": "python",
   "name": "conda-env-py35-py"
  },
  "language_info": {
   "codemirror_mode": {
    "name": "ipython",
    "version": 3
   },
   "file_extension": ".py",
   "mimetype": "text/x-python",
   "name": "python",
   "nbconvert_exporter": "python",
   "pygments_lexer": "ipython3",
   "version": "3.5.5"
  }
 },
 "nbformat": 4,
 "nbformat_minor": 2
}
