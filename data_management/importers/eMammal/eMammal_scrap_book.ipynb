{
 "cells": [
  {
   "cell_type": "code",
   "execution_count": 23,
   "metadata": {},
   "outputs": [],
   "source": [
    "import os\n",
    "import json\n",
    "from shutil import copy\n",
    "from multiprocessing import Process\n",
    "import zipfile\n",
    "from tqdm import tqdm\n",
    "from datetime import datetime"
   ]
  },
  {
   "cell_type": "code",
   "execution_count": 2,
   "metadata": {},
   "outputs": [],
   "source": [
    "source_path = '/home/yasiyu/mnt/wildlifeblobssc/emammal'"
   ]
  },
  {
   "cell_type": "code",
   "execution_count": 4,
   "metadata": {},
   "outputs": [],
   "source": [
    "collections = os.listdir(source_path)"
   ]
  },
  {
   "cell_type": "code",
   "execution_count": 10,
   "metadata": {},
   "outputs": [],
   "source": [
    "list1 = os.listdir(os.path.join(source_path, collections[0]))\n",
    "list2 = os.listdir(os.path.join(source_path, collections[1]))"
   ]
  },
  {
   "cell_type": "code",
   "execution_count": 8,
   "metadata": {},
   "outputs": [],
   "source": [
    "set1 = set(list1)\n",
    "set2 = set(list2)"
   ]
  },
  {
   "cell_type": "code",
   "execution_count": 9,
   "metadata": {},
   "outputs": [
    {
     "data": {
      "text/plain": [
       "True"
      ]
     },
     "execution_count": 9,
     "metadata": {},
     "output_type": "execute_result"
    }
   ],
   "source": [
    "set1.isdisjoint(set2)"
   ]
  },
  {
   "cell_type": "code",
   "execution_count": 11,
   "metadata": {},
   "outputs": [],
   "source": [
    "collection_lookup = {\n",
    "    collections[0]: list1,\n",
    "    collections[1]: list2\n",
    "}"
   ]
  },
  {
   "cell_type": "code",
   "execution_count": 15,
   "metadata": {},
   "outputs": [],
   "source": [
    "with open('emammal_collection_lookup.json', 'w') as f:\n",
    "    json.dump(collection_lookup, f)"
   ]
  },
  {
   "cell_type": "code",
   "execution_count": null,
   "metadata": {},
   "outputs": [],
   "source": []
  },
  {
   "cell_type": "code",
   "execution_count": 47,
   "metadata": {},
   "outputs": [],
   "source": [
    "def _copy_unzip(source_path, dest_folder):\n",
    "    dest_path = copy(source_path, dest_folder)\n",
    "    \n",
    "    dest_folder = dest_path.split('.zip')[0]    \n",
    "    with zipfile.ZipFile(dest_path, 'r') as zip_ref:\n",
    "        zip_ref.extractall(dest_folder)\n",
    "        \n",
    "    os.remove(dest_path)"
   ]
  },
  {
   "cell_type": "code",
   "execution_count": 48,
   "metadata": {},
   "outputs": [
    {
     "name": "stdout",
     "output_type": "stream",
     "text": [
      "Start timing...\n",
      "Processing collection 0Bill McShea\n"
     ]
    },
    {
     "name": "stderr",
     "output_type": "stream",
     "text": [
      "\r",
      "  0%|          | 0/1010 [00:00<?, ?it/s]"
     ]
    },
    {
     "name": "stdout",
     "output_type": "stream",
     "text": [
      "source path is /home/yasiyu/mnt/wildlifeblobssc/emammal/0Bill McShea/3191d17355.zip\n"
     ]
    },
    {
     "name": "stderr",
     "output_type": "stream",
     "text": [
      "100%|██████████| 1010/1010 [00:00<00:00, 96324.31it/s]\n",
      "100%|██████████| 1/1 [00:00<00:00,  1.17it/s]"
     ]
    },
    {
     "name": "stdout",
     "output_type": "stream",
     "text": [
      "Process took 0:00:01.237800.\n"
     ]
    },
    {
     "name": "stderr",
     "output_type": "stream",
     "text": [
      "\n"
     ]
    }
   ],
   "source": [
    "source_path = '/home/yasiyu/mnt/wildlifeblobssc/emammal'\n",
    "dest_folder = '/datadrive/emammal/'\n",
    "\n",
    "processes = []\n",
    "\n",
    "print('Start timing...')\n",
    "startTime = datetime.now()\n",
    "\n",
    "collections = os.listdir(source_path)\n",
    "\n",
    "for collection in collections:\n",
    "    source_folder = os.path.join(source_path, collection)\n",
    "    if not os.path.isdir(source_folder):\n",
    "        continue\n",
    "    \n",
    "    print('Processing collection {}'.format(collection))\n",
    "    \n",
    "    for file in tqdm(os.listdir(source_folder)):\n",
    "        if file != '3191d17355.zip':\n",
    "            continue\n",
    "        \n",
    "        source_path = os.path.join(source_folder, file)\n",
    "        print('source path is {}'.format(source_path))\n",
    "    \n",
    "        p = Process(target=_copy_unzip, args=(source_path, dest_folder))\n",
    "        p.start()\n",
    "        processes.append(p)\n",
    "    \n",
    "for p in tqdm(processes):\n",
    "    p.join()\n",
    "    \n",
    "print('Process took {}.'.format(datetime.now() - startTime))"
   ]
  },
  {
   "cell_type": "code",
   "execution_count": 41,
   "metadata": {},
   "outputs": [],
   "source": [
    "dest_path = '/datadrive/emammal/3191d17355.zip'"
   ]
  },
  {
   "cell_type": "code",
   "execution_count": 42,
   "metadata": {},
   "outputs": [],
   "source": [
    "with zipfile.ZipFile(dest_path, 'r') as zip_ref:\n",
    "    zip_ref.extractall()"
   ]
  },
  {
   "cell_type": "code",
   "execution_count": 43,
   "metadata": {},
   "outputs": [
    {
     "data": {
      "text/plain": [
       "['/datadrive/emammal/3191d17355', '']"
      ]
     },
     "execution_count": 43,
     "metadata": {},
     "output_type": "execute_result"
    }
   ],
   "source": [
    "dest_path.split('.zip')"
   ]
  },
  {
   "cell_type": "code",
   "execution_count": null,
   "metadata": {},
   "outputs": [],
   "source": []
  }
 ],
 "metadata": {
  "kernelspec": {
   "display_name": "Python [default]",
   "language": "python",
   "name": "python3"
  },
  "language_info": {
   "codemirror_mode": {
    "name": "ipython",
    "version": 3
   },
   "file_extension": ".py",
   "mimetype": "text/x-python",
   "name": "python",
   "nbconvert_exporter": "python",
   "pygments_lexer": "ipython3",
   "version": "3.5.5"
  }
 },
 "nbformat": 4,
 "nbformat_minor": 2
}
